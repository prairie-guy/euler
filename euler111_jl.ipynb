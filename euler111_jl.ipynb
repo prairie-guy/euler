{
 "cells": [
  {
   "cell_type": "markdown",
   "metadata": {},
   "source": [
    "# Primes with Runs"
   ]
  },
  {
   "cell_type": "markdown",
   "metadata": {},
   "source": [
    "### Problem 111"
   ]
  },
  {
   "cell_type": "markdown",
   "metadata": {},
   "source": [
    "Considering 4-digit primes containing repeated digits it is clear that they cannot all be the same: 1111 is divisible by 11, 2222 is divisible by 22, and so on. But there are nine 4-digit primes containing three ones:\n",
    "\n",
    "1117, 1151, 1171, 1181, 1511, 1811, 2111, 4111, 8111\n",
    "\n",
    "M(n, d) represents the maximum number of repeated digits for an n-digit prime where d is the repeated digit. \n",
    "\n",
    "N(n, d) represents the number of such primes. \n",
    "\n",
    "S(n, d) represents the sum of these primes.\n",
    "\n",
    "So M(4, 1) = 3 is the maximum number of repeated digits for a 4-digit prime where one is the repeated digit, there are N(4, 1) = 9 such primes, and the sum of these primes is S(4, 1) = 22275. It turns out that for d = 0, it is only possible to have M(4, 0) = 2 repeated digits, but there are N(4, 0) = 13 such cases.\n",
    "\n",
    "In the same way we obtain the following results for 4-digit primes.\n",
    "\n",
    "\n",
    "`Digit,d    M(4, d)        N(4, d)     S(4, d)`\n",
    "\n",
    "      0          2              13       67061 \n",
    "      1 \t     3               9 \t  22275\n",
    "      2 \t     3 \t          1 \t   2221\n",
    "      3 \t     3 \t         12 \t  46214\n",
    "      4 \t     3 \t          2 \t   8888\n",
    "      5 \t     3 \t          1 \t   5557\n",
    "      6 \t     3 \t          1 \t   6661\n",
    "      7 \t     3 \t          9 \t  57863\n",
    "      8 \t     3 \t          1 \t   8887\n",
    "      9 \t     3 \t          7 \t  48073 \n",
    "\n",
    "\n",
    "For d = 0 to 9, the sum of all S(4, d) is 273700.\n",
    "\n",
    "Find the sum of all S(10, d)."
   ]
  },
  {
   "cell_type": "code",
   "execution_count": 1,
   "metadata": {
    "collapsed": false
   },
   "outputs": [],
   "source": [
    "using CBD, IterTools, Combinatorics, Primes\n",
    "# Combinatorics source code contains many useful functions not found in README "
   ]
  },
  {
   "cell_type": "markdown",
   "metadata": {},
   "source": [
    "_L(n,ds,d) is a low level function that generates a mask of the digit 'd' of length 'n'. It then takes the cartesian product of the digits in the array 'ds' and generates all possible numbers in which the products of 'ds' have been placed in all possible positions within the mask. Finally, it checks to see if these are primes. (Need to be careful of leading 0's.)\n",
    "\n",
    "For example, _L(9,[3,8],1), generates a mask of 9's and then generates all possible numbers in which [3,3],[3,8],[8,3] and [8,8] are placed within the mask.\n",
    "\n",
    "This will be a unique list."
   ]
  },
  {
   "cell_type": "code",
   "execution_count": 322,
   "metadata": {
    "collapsed": false
   },
   "outputs": [
    {
     "data": {
      "text/plain": [
       "_L (generic function with 1 method)"
      ]
     },
     "execution_count": 322,
     "metadata": {},
     "output_type": "execute_result"
    }
   ],
   "source": [
    "function _L(n,ds,d)\n",
    "    result  = []\n",
    "    m       = [] \n",
    "    mask    = fill(d,n)\n",
    "    indxs   = combinations(1:n, length(ds))\n",
    "    pds     = product(ds,ds)\n",
    "\n",
    "    for idxs_pds = product(indxs, pds)\n",
    "        m = copy(mask)\n",
    "        for (idx, pd) in reduce(zip,idxs_pds)\n",
    "            setindex!(m,pd,idx)\n",
    "        end\n",
    "        k = parse(Int64, reduce(*, map(string,m)))\n",
    "        if k >= 10^(n-1) && isprime(k)\n",
    "            push!(result,k)\n",
    "        end\n",
    "    end\n",
    "    result\n",
    "end"
   ]
  },
  {
   "cell_type": "markdown",
   "metadata": {},
   "source": [
    "Here are a couple of examples. \n",
    "\n",
    "Note that though the primes in each result are distinct, that there are duplicates between the two lists."
   ]
  },
  {
   "cell_type": "code",
   "execution_count": 333,
   "metadata": {
    "collapsed": false,
    "scrolled": true
   },
   "outputs": [
    {
     "data": {
      "text/plain": [
       "18-element Array{Any,1}:\n",
       " 111111313\n",
       " 111111331\n",
       " 111113113\n",
       " 111113131\n",
       " 111118811\n",
       " 111131131\n",
       " 111133111\n",
       " 111311131\n",
       " 111881111\n",
       " 113111311\n",
       " 118181111\n",
       " 118811111\n",
       " 131111131\n",
       " 131113111\n",
       " 181111181\n",
       " 311111131\n",
       " 811111181\n",
       " 811111811"
      ]
     },
     "execution_count": 333,
     "metadata": {},
     "output_type": "execute_result"
    }
   ],
   "source": [
    "sort(_L(9, [3,8], 1))"
   ]
  },
  {
   "cell_type": "code",
   "execution_count": 334,
   "metadata": {
    "collapsed": false
   },
   "outputs": [
    {
     "data": {
      "text/plain": [
       "18-element Array{Any,1}:\n",
       " 111111313\n",
       " 111111331\n",
       " 111113113\n",
       " 111113131\n",
       " 111114131\n",
       " 111131131\n",
       " 111133111\n",
       " 111311131\n",
       " 111314111\n",
       " 113111311\n",
       " 113141111\n",
       " 131111131\n",
       " 131113111\n",
       " 131114111\n",
       " 141113111\n",
       " 141311111\n",
       " 311111131\n",
       " 431111111"
      ]
     },
     "execution_count": 334,
     "metadata": {},
     "output_type": "execute_result"
    }
   ],
   "source": [
    "sort(_L(9, [3,4], 1))"
   ]
  },
  {
   "cell_type": "markdown",
   "metadata": {},
   "source": [
    "L(n,d,u) generates all combinations of 'u' digits, generates a mask of the digit 'd' and then generates all possible combinations of the 'u' digits substituted over this mask. \n",
    "\n",
    "The key function is: combinations(0:9,u), which selects 'u' digits of the digits 0..9 and depends upon _L(n,ds,d).\n",
    "\n",
    "As shown in the example above, though each call of _L(n,ds,d) results in distinct primes, duplicates can exist between different calls to _L(n,ds,d). These must be removed."
   ]
  },
  {
   "cell_type": "code",
   "execution_count": 325,
   "metadata": {
    "collapsed": false
   },
   "outputs": [
    {
     "data": {
      "text/plain": [
       "L (generic function with 1 method)"
      ]
     },
     "execution_count": 325,
     "metadata": {},
     "output_type": "execute_result"
    }
   ],
   "source": [
    "function L(n,d,u)\n",
    "    result = []\n",
    "    for ds in combinations(0:9,u)\n",
    "        r = _L(n,ds,d)\n",
    "        if !isempty(r)\n",
    "            append!(result,r)\n",
    "        end\n",
    "    end\n",
    "    #VERY IMPORTANT: REMOVE DUPLICATES\n",
    "    unique(result)\n",
    "end"
   ]
  },
  {
   "cell_type": "markdown",
   "metadata": {},
   "source": [
    "L1(n) is a top level function that generates masks for all digits and makes all possible single digit substitutions. This is useful, because for most 'n', the maximum run is simply of length (n-1). This allows us to pick those out and then dig deeper for those that has shorter maximum runs."
   ]
  },
  {
   "cell_type": "code",
   "execution_count": 326,
   "metadata": {
    "collapsed": false
   },
   "outputs": [
    {
     "data": {
      "text/plain": [
       "L1 (generic function with 1 method)"
      ]
     },
     "execution_count": 326,
     "metadata": {},
     "output_type": "execute_result"
    }
   ],
   "source": [
    "function L1(n)\n",
    "    result = []\n",
    "    for d in 0:9\n",
    "        r = L(n,d,1)\n",
    "        push!(result,r)\n",
    "        end\n",
    "    result \n",
    "end"
   ]
  },
  {
   "cell_type": "markdown",
   "metadata": {},
   "source": [
    "Finally, we are ready. Calling L1(10) shows that all but three masks 'd' have maximum runs of length 9. These are {1,3,4,5,6,7,9}. \n",
    "\n",
    "Those 'd' that do not have maximum runs of length 9 are {0,2,8}."
   ]
  },
  {
   "cell_type": "code",
   "execution_count": 327,
   "metadata": {
    "collapsed": false,
    "scrolled": true
   },
   "outputs": [
    {
     "data": {
      "text/plain": [
       "10-element Array{Any,1}:\n",
       " Any[]                                                                                                                               \n",
       " [1121111111, 1111211111, 1111111121, 1111411111, 1111111411, 1151111111, 1115111111, 1111115111, 1711111111, 1117111111, 1111111181]\n",
       " Any[]                                                                                                                               \n",
       " [3333133333, 3233333333, 3333323333, 3333332333, 3333333323, 3334333333, 3333333833]                                                \n",
       " [4444444447]                                                                                                                        \n",
       " [5555555557]                                                                                                                        \n",
       " [6666666661]                                                                                                                        \n",
       " [1777777777, 7777717777, 2777777777, 7727777777, 7777772777, 7777747777, 7777777577, 8777777777, 7778777777]                        \n",
       " Any[]                                                                                                                               \n",
       " [9199999999, 9299999999, 9999929999, 9999999929, 9999499999, 9959999999, 9995999999, 9999959999]                                    "
      ]
     },
     "execution_count": 327,
     "metadata": {},
     "output_type": "execute_result"
    }
   ],
   "source": [
    "L1(10)"
   ]
  },
  {
   "cell_type": "markdown",
   "metadata": {},
   "source": [
    "The 'd' that do not have maximum runs of length 9 are {0,2,8}.\n",
    "\n",
    "For these, we see simply start by testing if they have maximum runs of length 8. As it turns out, they do, so all we need to do is sum all of the results together."
   ]
  },
  {
   "cell_type": "code",
   "execution_count": 329,
   "metadata": {
    "collapsed": false
   },
   "outputs": [
    {
     "data": {
      "text/plain": [
       "8-element Array{Int64,1}:\n",
       " 6000000001\n",
       " 7000000001\n",
       " 1000000007\n",
       " 9000000001\n",
       " 1000000009\n",
       " 4000000007\n",
       " 4000000009\n",
       " 6000000007"
      ]
     },
     "execution_count": 329,
     "metadata": {},
     "output_type": "execute_result"
    }
   ],
   "source": [
    "L(10,0,2)"
   ]
  },
  {
   "cell_type": "code",
   "execution_count": 330,
   "metadata": {
    "collapsed": false
   },
   "outputs": [
    {
     "data": {
      "text/plain": [
       "39-element Array{Int64,1}:\n",
       " 2022222221\n",
       " 2202222223\n",
       " 2222202223\n",
       " 2222220223\n",
       " 2222220227\n",
       " 2232222221\n",
       " 1222222223\n",
       " 2222221223\n",
       " 5222222221\n",
       " 2222225221\n",
       " 2222262221\n",
       " 2222222621\n",
       " 2222282221\n",
       "          ⋮\n",
       " 3222222229\n",
       " 2232222229\n",
       " 2222242229\n",
       " 2222224229\n",
       " 2222262227\n",
       " 2222222267\n",
       " 2262222229\n",
       " 2222222927\n",
       " 2222222297\n",
       " 7222222229\n",
       " 2722222229\n",
       " 2272222229"
      ]
     },
     "execution_count": 330,
     "metadata": {},
     "output_type": "execute_result"
    }
   ],
   "source": [
    "L(10,2,2)"
   ]
  },
  {
   "cell_type": "code",
   "execution_count": 331,
   "metadata": {
    "collapsed": false
   },
   "outputs": [
    {
     "data": {
      "text/plain": [
       "32-element Array{Int64,1}:\n",
       " 8888808881\n",
       " 8888880881\n",
       " 8880888883\n",
       " 8888888383\n",
       " 8888880887\n",
       " 8888888087\n",
       " 8888088889\n",
       " 8888888089\n",
       " 8888888809\n",
       " 8888888989\n",
       " 8888882881\n",
       " 8838888881\n",
       " 8885888881\n",
       "          ⋮\n",
       " 8488888883\n",
       " 8888488883\n",
       " 8888888483\n",
       " 8888838887\n",
       " 8888888837\n",
       " 8898888883\n",
       " 8888848889\n",
       " 8868888887\n",
       " 8688888889\n",
       " 8886888889\n",
       " 8888868889\n",
       " 9888888887"
      ]
     },
     "execution_count": 331,
     "metadata": {},
     "output_type": "execute_result"
    }
   ],
   "source": [
    "L(10,8,2)"
   ]
  },
  {
   "cell_type": "markdown",
   "metadata": {},
   "source": [
    "Now sum the maximum 9-run and 8-run primes (of length 10) together and we are done.\n",
    "\n",
    "This could be easily generalized, but that's just low-level. The problem is solved."
   ]
  },
  {
   "cell_type": "code",
   "execution_count": 332,
   "metadata": {
    "collapsed": false,
    "scrolled": true
   },
   "outputs": [
    {
     "name": "stdout",
     "output_type": "stream",
     "text": [
      "  0.168103 seconds (1.43 M allocations: 64.756 MiB, 6.63% gc time)\n"
     ]
    },
    {
     "data": {
      "text/html": [
       "612407567715"
      ],
      "text/plain": [
       "612407567715"
      ]
     },
     "execution_count": 332,
     "metadata": {},
     "output_type": "execute_result"
    }
   ],
   "source": [
    "@time sum(map(sum,filter(!isempty,L1(10)))) + sum(L(10,0,2)) + sum(L(10,2,2)) + sum(L(10,8,2))"
   ]
  }
 ],
 "metadata": {
  "kernelspec": {
   "display_name": "Julia 0.6.0-rc3",
   "language": "julia",
   "name": "julia-0.6"
  },
  "language_info": {
   "file_extension": ".jl",
   "mimetype": "application/julia",
   "name": "julia",
   "version": "0.6.0"
  },
  "latex_envs": {
   "LaTeX_envs_menu_present": true,
   "autocomplete": true,
   "bibliofile": "biblio.bib",
   "cite_by": "apalike",
   "current_citInitial": 1,
   "eqLabelWithNumbers": true,
   "eqNumInitial": 1,
   "hotkeys": {
    "equation": "Ctrl-E",
    "itemize": "Ctrl-I"
   },
   "labels_anchors": false,
   "latex_user_defs": false,
   "report_style_numbering": false,
   "user_envs_cfg": false
  },
  "varInspector": {
   "cols": {
    "lenName": 16,
    "lenType": 16,
    "lenVar": 40
   },
   "kernels_config": {
    "python": {
     "delete_cmd_postfix": "",
     "delete_cmd_prefix": "del ",
     "library": "var_list.py",
     "varRefreshCmd": "print(var_dic_list())"
    },
    "r": {
     "delete_cmd_postfix": ") ",
     "delete_cmd_prefix": "rm(",
     "library": "var_list.r",
     "varRefreshCmd": "cat(var_dic_list()) "
    }
   },
   "types_to_exclude": [
    "module",
    "function",
    "builtin_function_or_method",
    "instance",
    "_Feature"
   ],
   "window_display": false
  }
 },
 "nbformat": 4,
 "nbformat_minor": 2
}
