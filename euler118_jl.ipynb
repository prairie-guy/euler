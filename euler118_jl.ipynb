{
 "cells": [
  {
   "cell_type": "markdown",
   "metadata": {},
   "source": [
    "# Pandigital prime sets"
   ]
  },
  {
   "cell_type": "markdown",
   "metadata": {},
   "source": [
    "### Problem 118"
   ]
  },
  {
   "cell_type": "markdown",
   "metadata": {},
   "source": [
    "Using all of the digits 1 through 9 and concatenating them freely to form decimal integers, different sets can be formed. \n",
    "\n",
    "Interestingly with the set {2,5,47,89,631}, all of the elements belonging to it are prime. \n",
    "\n",
    "How many distinct sets containing each of the digits one through nine exactly once contain only prime elements?"
   ]
  },
  {
   "cell_type": "code",
   "execution_count": 1,
   "metadata": {
    "scrolled": true
   },
   "outputs": [],
   "source": [
    "using Primes, Combinatorics"
   ]
  },
  {
   "cell_type": "markdown",
   "metadata": {},
   "source": [
    "The function permute10expt(expt) will create all permutations of a number 10^expt. It will return an array of integers."
   ]
  },
  {
   "cell_type": "code",
   "execution_count": 2,
   "metadata": {},
   "outputs": [
    {
     "data": {
      "text/plain": [
       "permute10expt (generic function with 1 method)"
      ]
     },
     "execution_count": 2,
     "metadata": {},
     "output_type": "execute_result"
    }
   ],
   "source": [
    "function permute10expt(expt::Int)\n",
    "    collect(Combinatorics.permutations(1:expt))\n",
    "end"
   ]
  },
  {
   "cell_type": "code",
   "execution_count": 3,
   "metadata": {
    "scrolled": false
   },
   "outputs": [
    {
     "data": {
      "text/plain": [
       "6-element Array{Array{Int64,1},1}:\n",
       " [1, 2, 3]\n",
       " [1, 3, 2]\n",
       " [2, 1, 3]\n",
       " [2, 3, 1]\n",
       " [3, 1, 2]\n",
       " [3, 2, 1]"
      ]
     },
     "execution_count": 3,
     "metadata": {},
     "output_type": "execute_result"
    }
   ],
   "source": [
    "perms = permute10expt(3)"
   ]
  },
  {
   "cell_type": "markdown",
   "metadata": {},
   "source": [
    "### Partitions of a number"
   ]
  },
  {
   "cell_type": "markdown",
   "metadata": {},
   "source": [
    "Combinatorics.partitions(n) generates all integer arrays that sum to n."
   ]
  },
  {
   "cell_type": "code",
   "execution_count": 4,
   "metadata": {},
   "outputs": [
    {
     "data": {
      "text/plain": [
       "3-element Array{Any,1}:\n",
       " [3]      \n",
       " [2, 1]   \n",
       " [1, 1, 1]"
      ]
     },
     "execution_count": 4,
     "metadata": {},
     "output_type": "execute_result"
    }
   ],
   "source": [
    "collect(Combinatorics.partitions(3))"
   ]
  },
  {
   "cell_type": "markdown",
   "metadata": {},
   "source": [
    "A specific partition is just one integer array that sums to n."
   ]
  },
  {
   "cell_type": "markdown",
   "metadata": {},
   "source": [
    "From a single partition, an index can be constructed. The index can easily be used to split an array (of size n) into subarrays. \n",
    "By example, these partitions are turned into indexes: [3,2] -> [1:3, 4:5] and [3,2,1] -> [1:3,4:5,6:6]."
   ]
  },
  {
   "cell_type": "markdown",
   "metadata": {},
   "source": [
    "The function partition2index(part) takes a specific partition and creates an index."
   ]
  },
  {
   "cell_type": "code",
   "execution_count": 5,
   "metadata": {},
   "outputs": [
    {
     "data": {
      "text/plain": [
       "partition2index (generic function with 1 method)"
      ]
     },
     "execution_count": 5,
     "metadata": {},
     "output_type": "execute_result"
    }
   ],
   "source": [
    "function partition2index{T<:Int}(part::Vector{T})::Vector{Range{T}}\n",
    "    indxs = []\n",
    "    b,e = 1, 0\n",
    "    for p = part\n",
    "        e = e + p\n",
    "        push!(indxs, b:e)\n",
    "        b = e + 1 \n",
    "    end\n",
    "    indxs\n",
    "end        "
   ]
  },
  {
   "cell_type": "code",
   "execution_count": 6,
   "metadata": {},
   "outputs": [
    {
     "data": {
      "text/plain": [
       "3-element Array{Range{Int64},1}:\n",
       " 1:3\n",
       " 4:5\n",
       " 6:6"
      ]
     },
     "execution_count": 6,
     "metadata": {},
     "output_type": "execute_result"
    }
   ],
   "source": [
    "partition2index([3,2,1])"
   ]
  },
  {
   "cell_type": "markdown",
   "metadata": {},
   "source": [
    "The function applyindex(part, vect) takes an index (i.e., [1:3,4:5,6:6]) and an vector (i.e., [1, 2, 3, 4]) and returns an array of subarrays defined by the index (i.e., [[1, 2, 3], [4]]). The length of the sum of part and the length of perm, should be the same. NOTE: There is no error checking here."
   ]
  },
  {
   "cell_type": "markdown",
   "metadata": {},
   "source": [
    "applyindex([1:3,4:5,6:6], [1,2,3,4,5]) -> [[1,2,3],[4,5]]"
   ]
  },
  {
   "cell_type": "code",
   "execution_count": 7,
   "metadata": {},
   "outputs": [
    {
     "data": {
      "text/plain": [
       "applyindex (generic function with 1 method)"
      ]
     },
     "execution_count": 7,
     "metadata": {},
     "output_type": "execute_result"
    }
   ],
   "source": [
    "function applyindex{T}(index::Vector{Range{T}}, vect::Vector{T})::Vector{Vector{T}}\n",
    "    [vect[idx] for idx = index]\n",
    "end"
   ]
  },
  {
   "cell_type": "code",
   "execution_count": 8,
   "metadata": {},
   "outputs": [
    {
     "data": {
      "text/plain": [
       "2-element Array{Array{Int64,1},1}:\n",
       " [1, 2, 3]\n",
       " [4, 5]   "
      ]
     },
     "execution_count": 8,
     "metadata": {},
     "output_type": "execute_result"
    }
   ],
   "source": [
    "applyindex(partition2index([3,2]), [1,2,3,4,5])"
   ]
  },
  {
   "cell_type": "markdown",
   "metadata": {},
   "source": [
    "### Now let create more specialized functions specifically for this problem."
   ]
  },
  {
   "cell_type": "code",
   "execution_count": 9,
   "metadata": {},
   "outputs": [
    {
     "data": {
      "text/plain": [
       "reduce2integers (generic function with 1 method)"
      ]
     },
     "execution_count": 9,
     "metadata": {},
     "output_type": "execute_result"
    }
   ],
   "source": [
    "function reduce2integers{T}(index::Vector{Range{T}}, perm::Vector{Int})::Vector{Int}\n",
    "    [parse(Int64, reduce(string, \"\", p)) for p = applyindex(index, perm)]\n",
    "end"
   ]
  },
  {
   "cell_type": "code",
   "execution_count": 14,
   "metadata": {},
   "outputs": [
    {
     "data": {
      "text/plain": [
       "3-element Array{Int64,1}:\n",
       " 123\n",
       "   4\n",
       "   5"
      ]
     },
     "execution_count": 14,
     "metadata": {},
     "output_type": "execute_result"
    }
   ],
   "source": [
    "reduce2integers(partition2index([3,1,1]),[1,2,3,4,5,6])"
   ]
  },
  {
   "cell_type": "code",
   "execution_count": 11,
   "metadata": {},
   "outputs": [
    {
     "data": {
      "text/plain": [
       "allprime (generic function with 1 method)"
      ]
     },
     "execution_count": 11,
     "metadata": {},
     "output_type": "execute_result"
    }
   ],
   "source": [
    "function allprime(ns::Vector{Int})::Bool\n",
    "    all(isprime, ns)\n",
    "end"
   ]
  },
  {
   "cell_type": "code",
   "execution_count": 15,
   "metadata": {},
   "outputs": [
    {
     "data": {
      "text/html": [
       "true"
      ],
      "text/plain": [
       "true"
      ]
     },
     "execution_count": 15,
     "metadata": {},
     "output_type": "execute_result"
    }
   ],
   "source": [
    "allprime(reduce2integers(partition2index([1,1,1,2]),[2,5,7,3,1]))"
   ]
  },
  {
   "cell_type": "code",
   "execution_count": 13,
   "metadata": {},
   "outputs": [
    {
     "data": {
      "text/plain": [
       "euler118 (generic function with 1 method)"
      ]
     },
     "execution_count": 13,
     "metadata": {},
     "output_type": "execute_result"
    }
   ],
   "source": [
    "function euler118(n::Int)\n",
    "    result =[]\n",
    "    indexes = [partition2index(part) for part = Combinatorics.partitions(n)]\n",
    "    for perm = permute10expt(n)\n",
    "        for index = indexes\n",
    "            rs = reduce2integers(index, perm)\n",
    "            if allprime(rs)\n",
    "                push!(result, sort(rs))\n",
    "            end\n",
    "        end\n",
    "    end\n",
    "    length(unique(result))\n",
    "end"
   ]
  },
  {
   "cell_type": "code",
   "execution_count": 2,
   "metadata": {},
   "outputs": [
    {
     "name": "stdout",
     "output_type": "stream",
     "text": [
      " 36.987082 seconds (691.88 M allocations: 33.944 GiB, 11.91% gc time)\n"
     ]
    },
    {
     "data": {
      "text/html": [
       "44680"
      ],
      "text/plain": [
       "44680"
      ]
     },
     "execution_count": 2,
     "metadata": {},
     "output_type": "execute_result"
    }
   ],
   "source": [
    "@time euler118(9)"
   ]
  },
  {
   "cell_type": "markdown",
   "metadata": {},
   "source": [
    "### Here is all the code summarized"
   ]
  },
  {
   "cell_type": "code",
   "execution_count": 22,
   "metadata": {},
   "outputs": [
    {
     "name": "stdout",
     "output_type": "stream",
     "text": [
      " 38.108918 seconds (691.92 M allocations: 33.946 GiB, 12.00% gc time)\n"
     ]
    },
    {
     "data": {
      "text/html": [
       "44680"
      ],
      "text/plain": [
       "44680"
      ]
     },
     "execution_count": 22,
     "metadata": {},
     "output_type": "execute_result"
    }
   ],
   "source": [
    "using Primes, Combinatorics\n",
    "\n",
    "function permute10expt(expt::Int)\n",
    "    collect(Combinatorics.permutations(1:expt))\n",
    "end\n",
    "\n",
    "\n",
    "function partition2index{T<:Int}(part::Vector{T})::Vector{Range{T}}\n",
    "    indxs = []\n",
    "    b,e = 1, 0\n",
    "    for p = part\n",
    "        e = e + p\n",
    "        push!(indxs, b:e)\n",
    "        b = e + 1 \n",
    "    end\n",
    "    indxs\n",
    "end\n",
    "\n",
    "\n",
    "function applyindex{T}(index::Vector{Range{T}}, vect::Vector{T})::Vector{Vector{T}}\n",
    "    [vect[idx] for idx = index]\n",
    "end\n",
    "\n",
    "\n",
    "function reduce2integers{T}(index::Vector{Range{T}}, perm::Vector{Int})::Vector{Int}\n",
    "    [parse(Int64, reduce(string, \"\", p)) for p = applyindex(index, perm)]\n",
    "end\n",
    "\n",
    "\n",
    "function allprime(ns::Vector{Int})::Bool\n",
    "    all(isprime, ns)\n",
    "end\n",
    "\n",
    "\n",
    "function euler118(n::Int)\n",
    "    result =[]\n",
    "    indexes = [partition2index(part) for part = Combinatorics.partitions(n)]\n",
    "    for perm = permute10expt(n)\n",
    "        for index = indexes\n",
    "            rs = reduce2integers(index, perm)\n",
    "            if allprime(rs)\n",
    "                push!(result, sort(rs))\n",
    "            end\n",
    "        end\n",
    "    end\n",
    "    length(unique(result))\n",
    "end\n",
    "\n",
    "\n",
    "@time euler118(9)"
   ]
  }
 ],
 "metadata": {
  "kernelspec": {
   "display_name": "Julia 1.5.1",
   "language": "julia",
   "name": "julia-1.5"
  },
  "language_info": {
   "file_extension": ".jl",
   "mimetype": "application/julia",
   "name": "julia",
   "version": "1.5.1"
  },
  "latex_envs": {
   "LaTeX_envs_menu_present": true,
   "autocomplete": true,
   "bibliofile": "biblio.bib",
   "cite_by": "apalike",
   "current_citInitial": 1,
   "eqLabelWithNumbers": true,
   "eqNumInitial": 1,
   "hotkeys": {
    "equation": "Ctrl-E",
    "itemize": "Ctrl-I"
   },
   "labels_anchors": false,
   "latex_user_defs": false,
   "report_style_numbering": false,
   "user_envs_cfg": false
  },
  "varInspector": {
   "cols": {
    "lenName": 16,
    "lenType": 16,
    "lenVar": 40
   },
   "kernels_config": {
    "python": {
     "delete_cmd_postfix": "",
     "delete_cmd_prefix": "del ",
     "library": "var_list.py",
     "varRefreshCmd": "print(var_dic_list())"
    },
    "r": {
     "delete_cmd_postfix": ") ",
     "delete_cmd_prefix": "rm(",
     "library": "var_list.r",
     "varRefreshCmd": "cat(var_dic_list()) "
    }
   },
   "types_to_exclude": [
    "module",
    "function",
    "builtin_function_or_method",
    "instance",
    "_Feature"
   ],
   "window_display": false
  }
 },
 "nbformat": 4,
 "nbformat_minor": 2
}
