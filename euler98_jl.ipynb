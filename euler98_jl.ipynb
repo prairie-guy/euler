{
 "cells": [
  {
   "cell_type": "markdown",
   "metadata": {},
   "source": [
    "# Anagramic squares"
   ]
  },
  {
   "cell_type": "markdown",
   "metadata": {},
   "source": [
    "### Problem 98"
   ]
  },
  {
   "cell_type": "markdown",
   "metadata": {},
   "source": [
    "By replacing each of the letters in the word CARE with 1, 2, 9, and 6 respectively, we form a square number: 1296 = 36^2. What is remarkable is that, by using the same digital substitutions, the anagram, RACE, also forms a square number: 9216 = 96^2. We shall call CARE (and RACE) a square anagram word pair and specify further that leading zeroes are not permitted, neither may a different letter have the same digital value as another letter.\n",
    "\n",
    "Using words.txt (right click and 'Save Link/Target As...'), a 16K text file containing nearly two-thousand common English words, find all the square anagram word pairs (a palindromic word is NOT considered to be an anagram of itself).\n",
    "\n",
    "What is the largest square number formed by any member of such a pair?\n",
    "\n",
    "NOTE: All anagrams formed must be contained in the given text file."
   ]
  },
  {
   "cell_type": "code",
   "execution_count": 67,
   "metadata": {
    "collapsed": false
   },
   "outputs": [],
   "source": [
    "using CBD, IterTools, Combinatorics"
   ]
  },
  {
   "cell_type": "code",
   "execution_count": 111,
   "metadata": {
    "collapsed": false
   },
   "outputs": [],
   "source": [
    "#download(\"https://projecteuler.net/project/resources/p098_words.txt\", \"$(pwd())/euler98.txt\" )"
   ]
  },
  {
   "cell_type": "markdown",
   "metadata": {},
   "source": [
    "As expected, 1786 words in file: euler98.txt."
   ]
  },
  {
   "cell_type": "code",
   "execution_count": 112,
   "metadata": {
    "collapsed": false
   },
   "outputs": [
    {
     "data": {
      "text/plain": [
       "1786-element Array{Any,1}:\n",
       " \"A\"         \n",
       " \"ABILITY\"   \n",
       " \"ABLE\"      \n",
       " \"ABOUT\"     \n",
       " \"ABOVE\"     \n",
       " \"ABSENCE\"   \n",
       " \"ABSOLUTELY\"\n",
       " \"ACADEMIC\"  \n",
       " \"ACCEPT\"    \n",
       " \"ACCESS\"    \n",
       " \"ACCIDENT\"  \n",
       " \"ACCOMPANY\" \n",
       " \"ACCORDING\" \n",
       " ⋮           \n",
       " \"WRONG\"     \n",
       " \"YARD\"      \n",
       " \"YEAH\"      \n",
       " \"YEAR\"      \n",
       " \"YES\"       \n",
       " \"YESTERDAY\" \n",
       " \"YET\"       \n",
       " \"YOU\"       \n",
       " \"YOUNG\"     \n",
       " \"YOUR\"      \n",
       " \"YOURSELF\"  \n",
       " \"YOUTH\"     "
      ]
     },
     "execution_count": 112,
     "metadata": {},
     "output_type": "execute_result"
    }
   ],
   "source": [
    "words = vec(readcsv(\"euler98.txt\"))"
   ]
  },
  {
   "cell_type": "code",
   "execution_count": 121,
   "metadata": {
    "collapsed": false
   },
   "outputs": [
    {
     "data": {
      "text/plain": [
       "14-element Array{Array{Any,1},1}:\n",
       " Any[\"A\", \"I\"]                                                                                                                                                                                                                                                                                                     \n",
       " Any[\"AN\", \"AS\", \"AT\", \"BE\", \"BY\", \"DO\", \"GO\", \"HE\", \"IF\", \"IN\"  …  \"MY\", \"NO\", \"OF\", \"ON\", \"OR\", \"SO\", \"TO\", \"UP\", \"US\", \"WE\"]                                                                                                                                                                                    \n",
       " Any[\"ACT\", \"ADD\", \"AGE\", \"AGO\", \"AID\", \"AIM\", \"AIR\", \"ALL\", \"AND\", \"ANY\"  …  \"USE\", \"VIA\", \"WAR\", \"WAY\", \"WHO\", \"WHY\", \"WIN\", \"YES\", \"YET\", \"YOU\"]                                                                                                                                                                \n",
       " Any[\"ABLE\", \"ACID\", \"ALSO\", \"AREA\", \"ARMY\", \"AWAY\", \"BABY\", \"BACK\", \"BALL\", \"BAND\"  …  \"WING\", \"WISH\", \"WITH\", \"WOOD\", \"WORD\", \"WORK\", \"YARD\", \"YEAH\", \"YEAR\", \"YOUR\"]                                                                                                                                            \n",
       " Any[\"ABOUT\", \"ABOVE\", \"ADMIT\", \"ADOPT\", \"ADULT\", \"AFTER\", \"AGAIN\", \"AGENT\", \"AGREE\", \"AHEAD\"  …  \"WOMAN\", \"WORKS\", \"WORLD\", \"WORRY\", \"WORTH\", \"WOULD\", \"WRITE\", \"WRONG\", \"YOUNG\", \"YOUTH\"]                                                                                                                        \n",
       " Any[\"ACCEPT\", \"ACCESS\", \"ACROSS\", \"ACTION\", \"ACTIVE\", \"ACTUAL\", \"ADVICE\", \"ADVISE\", \"AFFAIR\", \"AFFECT\"  …  \"WEIGHT\", \"WHILST\", \"WIDELY\", \"WINDOW\", \"WINNER\", \"WINTER\", \"WITHIN\", \"WONDER\", \"WORKER\", \"WRITER\"]                                                                                                    \n",
       " Any[\"ABILITY\", \"ABSENCE\", \"ACCOUNT\", \"ACHIEVE\", \"ACQUIRE\", \"ADDRESS\", \"ADVANCE\", \"AGAINST\", \"ALREADY\", \"ALRIGHT\"  …  \"WEATHER\", \"WEEKEND\", \"WELCOME\", \"WELFARE\", \"WESTERN\", \"WHEREAS\", \"WHETHER\", \"WITHOUT\", \"WORKING\", \"WRITING\"]                                                                                \n",
       " Any[\"ACADEMIC\", \"ACCIDENT\", \"ACTIVITY\", \"ACTUALLY\", \"ADDITION\", \"AIRCRAFT\", \"ALTHOUGH\", \"ANALYSIS\", \"ANNOUNCE\", \"ANYTHING\"  …  \"THREATEN\", \"TOGETHER\", \"TOMORROW\", \"TRAINING\", \"TRANSFER\", \"UNLIKELY\", \"VIOLENCE\", \"WHATEVER\", \"WITHDRAW\", \"YOURSELF\"]                                                            \n",
       " Any[\"ACCOMPANY\", \"ACCORDING\", \"ADVANTAGE\", \"AFTERNOON\", \"AGREEMENT\", \"ASSOCIATE\", \"ATTENTION\", \"AUTHORITY\", \"AVAILABLE\", \"BEAUTIFUL\"  …  \"TECHNIQUE\", \"TELEPHONE\", \"THEREFORE\", \"TRADITION\", \"TRANSPORT\", \"TREATMENT\", \"UNDERTAKE\", \"VARIATION\", \"WONDERFUL\", \"YESTERDAY\"]                                        \n",
       " Any[\"ABSOLUTELY\", \"ADDITIONAL\", \"AFTERWARDS\", \"APPARENTLY\", \"APPEARANCE\", \"ASSESSMENT\", \"ASSUMPTION\", \"ATMOSPHERE\", \"ATTRACTIVE\", \"BACKGROUND\"  …  \"SETTLEMENT\", \"SUCCESSFUL\", \"SUFFICIENT\", \"SUGGESTION\", \"TECHNOLOGY\", \"TELEVISION\", \"THEMSELVES\", \"THROUGHOUT\", \"UNDERSTAND\", \"UNIVERSITY\"]                    \n",
       " Any[\"ACHIEVEMENT\", \"ALTERNATIVE\", \"APPLICATION\", \"APPOINTMENT\", \"APPROPRIATE\", \"ARRANGEMENT\", \"ASSOCIATION\", \"COMBINATION\", \"COMPETITION\", \"CONCENTRATE\"  …  \"PERFORMANCE\", \"POSSIBILITY\", \"PUBLICATION\", \"RECOGNITION\", \"REQUIREMENT\", \"RESPONSIBLE\", \"SIGNIFICANT\", \"SUBSTANTIAL\", \"TEMPERATURE\", \"TRADITIONAL\"]\n",
       " Any[\"CIRCUMSTANCE\", \"CONSERVATIVE\", \"CONSIDERABLE\", \"CONSTRUCTION\", \"CONTRIBUTION\", \"CONVERSATION\", \"DISTRIBUTION\", \"INCREASINGLY\", \"INTRODUCTION\", \"NEVERTHELESS\", \"ORGANISATION\", \"ORGANIZATION\", \"PARTICULARLY\", \"PROFESSIONAL\", \"RELATIONSHIP\", \"SIGNIFICANCE\", \"UNEMPLOYMENT\"]                               \n",
       " Any[\"COMMUNICATION\", \"CONCENTRATION\", \"CONSIDERATION\", \"ENVIRONMENTAL\", \"ESTABLISHMENT\", \"INTERNATIONAL\", \"INVESTIGATION\", \"UNDERSTANDING\", \"UNFORTUNATELY\"]                                                                                                                                                      \n",
       " Any[\"ADMINISTRATION\", \"CHARACTERISTIC\", \"INTERPRETATION\", \"REPRESENTATION\", \"REPRESENTATIVE\", \"RESPONSIBILITY\"]                                                                                                                                                                                                   "
      ]
     },
     "execution_count": 121,
     "metadata": {},
     "output_type": "execute_result"
    }
   ],
   "source": [
    "[a for a in groupby(length, sort(words,by=length))]"
   ]
  },
  {
   "cell_type": "markdown",
   "metadata": {},
   "source": [
    "Haven't lost any . . ."
   ]
  },
  {
   "cell_type": "code",
   "execution_count": 122,
   "metadata": {
    "collapsed": false,
    "scrolled": false
   },
   "outputs": [
    {
     "data": {
      "text/html": [
       "1786"
      ],
      "text/plain": [
       "1786"
      ]
     },
     "execution_count": 122,
     "metadata": {},
     "output_type": "execute_result"
    }
   ],
   "source": [
    "sum(map(e->size(e)[1], [a for a in groupby(length, sort(words,by=length))]))"
   ]
  },
  {
   "cell_type": "markdown",
   "metadata": {},
   "source": [
    "Find all the anagrams in list of words all of equal length"
   ]
  },
  {
   "cell_type": "code",
   "execution_count": 123,
   "metadata": {
    "collapsed": false
   },
   "outputs": [
    {
     "data": {
      "text/plain": [
       "find_anagrams (generic function with 1 method)"
      ]
     },
     "execution_count": 123,
     "metadata": {},
     "output_type": "execute_result"
    }
   ],
   "source": [
    "function is_anagram(w1, w2)\n",
    "    sort(split(w1,\"\")) == sort(split(w2,\"\"))\n",
    "end\n",
    "\n",
    "function find_anagrams(words)\n",
    "    # words are all of equal length\n",
    "    anagrams = []\n",
    "    for (idx, w) in enumerate(words)\n",
    "        anagram_of = String[w]\n",
    "        for i in words[idx:end]\n",
    "            if w != i && is_anagram(w, i)\n",
    "                push!(anagram_of, i)\n",
    "            end\n",
    "        end\n",
    "        if anagram_of != [w]\n",
    "            push!(anagrams, anagram_of)\n",
    "        end\n",
    "    end\n",
    "    anagrams\n",
    "end"
   ]
  },
  {
   "cell_type": "markdown",
   "metadata": {},
   "source": [
    "Now let's find all of the anagrams in euler98.txt, grouped by length of anagram."
   ]
  },
  {
   "cell_type": "code",
   "execution_count": 137,
   "metadata": {
    "collapsed": false
   },
   "outputs": [
    {
     "data": {
      "text/plain": [
       "14-element Array{Array{Any,1},1}:\n",
       " Any[]                                                                                                                                                                                                                                                                                                                                                                                                                              \n",
       " Any[String[\"NO\", \"ON\"]]                                                                                                                                                                                                                                                                                                                                                                                                            \n",
       " Any[String[\"ACT\", \"CAT\"], String[\"DOG\", \"GOD\"], String[\"EAT\", \"TEA\"], String[\"HOW\", \"WHO\"], String[\"ITS\", \"SIT\"], String[\"NOW\", \"OWN\"]]                                                                                                                                                                                                                                                                                            \n",
       " Any[String[\"CARE\", \"RACE\"], String[\"DEAL\", \"LEAD\"], String[\"EARN\", \"NEAR\"], String[\"EAST\", \"SEAT\"], String[\"FILE\", \"LIFE\"], String[\"FORM\", \"FROM\"], String[\"HATE\", \"HEAT\"], String[\"ITEM\", \"TIME\"], String[\"MALE\", \"MEAL\"], String[\"MEAN\", \"NAME\"], String[\"NOTE\", \"TONE\"], String[\"POST\", \"SPOT\", \"STOP\"], String[\"RATE\", \"TEAR\"], String[\"SHUT\", \"THUS\"], String[\"SIGN\", \"SING\"], String[\"SPOT\", \"STOP\"], String[\"SURE\", \"USER\"]]\n",
       " Any[String[\"ARISE\", \"RAISE\"], String[\"BOARD\", \"BROAD\"], String[\"EARTH\", \"HEART\"], String[\"LEAST\", \"STEAL\"], String[\"NIGHT\", \"THING\"], String[\"PHASE\", \"SHAPE\"], String[\"QUIET\", \"QUITE\"], String[\"SHEET\", \"THESE\"], String[\"SHOUT\", \"SOUTH\"], String[\"THROW\", \"WORTH\"]]                                                                                                                                                            \n",
       " Any[String[\"CENTRE\", \"RECENT\"], String[\"COURSE\", \"SOURCE\"], String[\"CREDIT\", \"DIRECT\"], String[\"DANGER\", \"GARDEN\"], String[\"EXCEPT\", \"EXPECT\"], String[\"FORMER\", \"REFORM\"], String[\"IGNORE\", \"REGION\"]]                                                                                                                                                                                                                            \n",
       " Any[]                                                                                                                                                                                                                                                                                                                                                                                                                              \n",
       " Any[String[\"CREATION\", \"REACTION\"]]                                                                                                                                                                                                                                                                                                                                                                                                \n",
       " Any[String[\"INTRODUCE\", \"REDUCTION\"]]                                                                                                                                                                                                                                                                                                                                                                                              \n",
       " Any[]                                                                                                                                                                                                                                                                                                                                                                                                                              \n",
       " Any[]                                                                                                                                                                                                                                                                                                                                                                                                                              \n",
       " Any[]                                                                                                                                                                                                                                                                                                                                                                                                                              \n",
       " Any[]                                                                                                                                                                                                                                                                                                                                                                                                                              \n",
       " Any[]                                                                                                                                                                                                                                                                                                                                                                                                                              "
      ]
     },
     "execution_count": 137,
     "metadata": {},
     "output_type": "execute_result"
    }
   ],
   "source": [
    "anagrams = [find_anagrams(g) for g in groupby(length, sort(words, by=length))]"
   ]
  },
  {
   "cell_type": "markdown",
   "metadata": {},
   "source": [
    "Since no leading zeros are permitted, the largest possible square must also be the longest possible pair of anagrams. Therefore, when searching for solutions, start with the largest pairs and then consider the next largest pairs. In this case start with pairs of length=9, i.e., \"INTRODUCE\", \"REDUCTION\" and then try length=8, etc."
   ]
  },
  {
   "cell_type": "markdown",
   "metadata": {},
   "source": [
    "By the constraints of the problem, we are looking for encodings, i.e., a number which is: 1) A square and 2) All of the digits are unique. This functions finds these by power. For example, unique_squaresbypow(3) returns all of the numbers with three digits that satisfy the constrains of the problem above."
   ]
  },
  {
   "cell_type": "code",
   "execution_count": 316,
   "metadata": {
    "collapsed": false
   },
   "outputs": [
    {
     "data": {
      "text/plain": [
       "unique_squaresbypow (generic function with 1 method)"
      ]
     },
     "execution_count": 316,
     "metadata": {},
     "output_type": "execute_result"
    }
   ],
   "source": [
    "function unique_squaresbypow(pow)\n",
    "    (from, to) = ceil(Integer,sqrt(10^(pow-1))),floor(Integer, sqrt((10^pow)-1))\n",
    "    [n^2 for n = range(from, to - from + 1) if allunique(digits(n^2))]\n",
    "end"
   ]
  },
  {
   "cell_type": "markdown",
   "metadata": {},
   "source": [
    "Let's try it out on something simple. Seems to work"
   ]
  },
  {
   "cell_type": "code",
   "execution_count": 317,
   "metadata": {
    "collapsed": false,
    "scrolled": true
   },
   "outputs": [
    {
     "name": "stdout",
     "output_type": "stream",
     "text": [
      "  0.113601 seconds (22.25 k allocations: 1.251 MiB)\n"
     ]
    },
    {
     "data": {
      "text/plain": [
       "13-element Array{Int64,1}:\n",
       " 169\n",
       " 196\n",
       " 256\n",
       " 289\n",
       " 324\n",
       " 361\n",
       " 529\n",
       " 576\n",
       " 625\n",
       " 729\n",
       " 784\n",
       " 841\n",
       " 961"
      ]
     },
     "execution_count": 317,
     "metadata": {},
     "output_type": "execute_result"
    }
   ],
   "source": [
    "@time unique_squaresbypow(3)"
   ]
  },
  {
   "cell_type": "markdown",
   "metadata": {},
   "source": [
    "Now something harder. Still very fast. (I tried building up permutations of combinations and that version would take 12 seconds. This is much better.)"
   ]
  },
  {
   "cell_type": "code",
   "execution_count": 318,
   "metadata": {
    "collapsed": false,
    "scrolled": true
   },
   "outputs": [
    {
     "name": "stdout",
     "output_type": "stream",
     "text": [
      "  0.034730 seconds (108.13 k allocations: 13.200 MiB, 26.43% gc time)\n"
     ]
    },
    {
     "data": {
      "text/plain": [
       "83-element Array{Int64,1}:\n",
       " 102495376\n",
       " 102576384\n",
       " 102738496\n",
       " 104325796\n",
       " 105637284\n",
       " 139854276\n",
       " 152843769\n",
       " 157326849\n",
       " 158306724\n",
       " 158407396\n",
       " 172843609\n",
       " 176039824\n",
       " 176305284\n",
       "         ⋮\n",
       " 740329681\n",
       " 743816529\n",
       " 783104256\n",
       " 793605241\n",
       " 798401536\n",
       " 803495716\n",
       " 816930724\n",
       " 825470361\n",
       " 842973156\n",
       " 847159236\n",
       " 853107264\n",
       " 923187456"
      ]
     },
     "execution_count": 318,
     "metadata": {},
     "output_type": "execute_result"
    }
   ],
   "source": [
    "@time unique_squaresbypow(9)"
   ]
  },
  {
   "cell_type": "markdown",
   "metadata": {},
   "source": [
    "And now, let's see how many there are in total."
   ]
  },
  {
   "cell_type": "code",
   "execution_count": 319,
   "metadata": {
    "collapsed": false
   },
   "outputs": [
    {
     "name": "stdout",
     "output_type": "stream",
     "text": [
      "2: 6\n",
      "3: 13\n",
      "4: 36\n",
      "5: 66\n",
      "6: 96\n",
      "7: 123\n",
      "8: 97\n",
      "9: 83\n",
      "  0.035376 seconds (158.56 k allocations: 19.164 MiB, 14.89% gc time)\n"
     ]
    }
   ],
   "source": [
    "@time for p in 2:9\n",
    "    println(\"$p: $(length(unique_squaresbypow(p)))\")\n",
    "end"
   ]
  },
  {
   "cell_type": "code",
   "execution_count": 320,
   "metadata": {
    "collapsed": false
   },
   "outputs": [
    {
     "data": {
      "text/plain": [
       "encode (generic function with 1 method)"
      ]
     },
     "execution_count": 320,
     "metadata": {},
     "output_type": "execute_result"
    }
   ],
   "source": [
    "function encode(word, cipher::Integer)\n",
    "   Dict(k=>v for (k,v) in zip(split(reverse(word),\"\"), digits(cipher)))\n",
    "end"
   ]
  },
  {
   "cell_type": "code",
   "execution_count": 321,
   "metadata": {
    "collapsed": false
   },
   "outputs": [
    {
     "data": {
      "text/plain": [
       "decode (generic function with 1 method)"
      ]
     },
     "execution_count": 321,
     "metadata": {},
     "output_type": "execute_result"
    }
   ],
   "source": [
    "function decode(word, encoding)\n",
    "    str = \"\"\n",
    "    for l in split(word,\"\")\n",
    "        str = string(str,encoding[l])\n",
    "    end\n",
    "    parse(Int, str)\n",
    "end"
   ]
  },
  {
   "cell_type": "code",
   "execution_count": 322,
   "metadata": {
    "collapsed": false
   },
   "outputs": [
    {
     "data": {
      "text/plain": [
       "Dict{SubString{String},Int64} with 4 entries:\n",
       "  \"c\" => 1\n",
       "  \"e\" => 6\n",
       "  \"r\" => 9\n",
       "  \"a\" => 2"
      ]
     },
     "execution_count": 322,
     "metadata": {},
     "output_type": "execute_result"
    }
   ],
   "source": [
    "encode(\"care\", 1296)"
   ]
  },
  {
   "cell_type": "code",
   "execution_count": 323,
   "metadata": {
    "collapsed": false
   },
   "outputs": [
    {
     "data": {
      "text/html": [
       "1296"
      ],
      "text/plain": [
       "1296"
      ]
     },
     "execution_count": 323,
     "metadata": {},
     "output_type": "execute_result"
    }
   ],
   "source": [
    "decode(\"care\", encode(\"race\", 9216))"
   ]
  },
  {
   "cell_type": "code",
   "execution_count": 324,
   "metadata": {
    "collapsed": false,
    "scrolled": true
   },
   "outputs": [
    {
     "data": {
      "text/plain": [
       "Dict{SubString{String},Int64} with 4 entries:\n",
       "  \"c\" => 1\n",
       "  \"e\" => 6\n",
       "  \"r\" => 9\n",
       "  \"a\" => 2"
      ]
     },
     "execution_count": 324,
     "metadata": {},
     "output_type": "execute_result"
    }
   ],
   "source": [
    "encode(\"race\", 9216 )"
   ]
  },
  {
   "cell_type": "code",
   "execution_count": 325,
   "metadata": {
    "collapsed": false
   },
   "outputs": [
    {
     "data": {
      "text/html": [
       "true"
      ],
      "text/plain": [
       "true"
      ]
     },
     "execution_count": 325,
     "metadata": {},
     "output_type": "execute_result"
    }
   ],
   "source": [
    "encode(\"care\", 1296) == encode(\"race\", 9216 )"
   ]
  },
  {
   "cell_type": "markdown",
   "metadata": {},
   "source": [
    "Here is where all the work is done. Take a list of anagram-pairs (all of a set length) and loop through these a pair at a time. Using the ciphers, which are the unique_squaresbypow(), then test to see if for an anagram-pair if the they have the same encoding. (Remember that an encoding is a Dict mapping each letter to a digit)."
   ]
  },
  {
   "cell_type": "code",
   "execution_count": 326,
   "metadata": {
    "collapsed": false
   },
   "outputs": [
    {
     "data": {
      "text/plain": [
       "sameencoding (generic function with 2 methods)"
      ]
     },
     "execution_count": 326,
     "metadata": {},
     "output_type": "execute_result"
    }
   ],
   "source": [
    "function sameencoding(anagram_pairs, ciphers)\n",
    "    for (anagram1, amagram2) = anagram_pairs\n",
    "        for e1 in map(c->encode(anagram1, c), ciphers)\n",
    "            for e2 in map(c->encode(amagram2, c), ciphers)\n",
    "                if e1 == e2\n",
    "                    println(\" $e1, $anagram1->$(decode(anagram1,e1)), $amagram2->$(decode(amagram2,e2))\")\n",
    "                end\n",
    "            end\n",
    "        end\n",
    "    end\n",
    "end"
   ]
  },
  {
   "cell_type": "markdown",
   "metadata": {},
   "source": [
    "Using trial-and-error, starting with 9 and working down, discovered the solution for anagrams of length 5. Obviously, the solution is BROAD->18769, as it is the largest square."
   ]
  },
  {
   "cell_type": "code",
   "execution_count": 327,
   "metadata": {
    "collapsed": false
   },
   "outputs": [
    {
     "name": "stdout",
     "output_type": "stream",
     "text": [
      " Dict(\"B\"=>1,\"A\"=>6,\"D\"=>9,\"R\"=>8,\"O\"=>7), BOARD->17689, BROAD->18769\n",
      "  0.260644 seconds (1.38 M allocations: 73.887 MiB, 6.44% gc time)\n"
     ]
    }
   ],
   "source": [
    "@time sameencoding(anagrams[5],unique_squaresbypow(5))"
   ]
  },
  {
   "cell_type": "markdown",
   "metadata": {},
   "source": [
    "So, just to be able to time it, put all of this together in a little script. Note: I haven't spent the time to clean this up to stop after a high enough solution is found. Moreover, I need to visually examine it to find the largest square. Easy to spend more time, but why?"
   ]
  },
  {
   "cell_type": "code",
   "execution_count": 328,
   "metadata": {
    "collapsed": false
   },
   "outputs": [
    {
     "data": {
      "text/plain": [
       "euler98 (generic function with 1 method)"
      ]
     },
     "execution_count": 328,
     "metadata": {},
     "output_type": "execute_result"
    }
   ],
   "source": [
    "function euler98()\n",
    "    anagrams = [find_anagrams(g) for g in groupby(length, sort(words, by=length))]\n",
    "    for i = 9:-1:2\n",
    "        sameencoding(anagrams[i], unique_squaresbypow(i))\n",
    "    end\n",
    "end"
   ]
  },
  {
   "cell_type": "code",
   "execution_count": 314,
   "metadata": {
    "collapsed": false
   },
   "outputs": [
    {
     "name": "stdout",
     "output_type": "stream",
     "text": [
      " Dict(\"B\"=>1,\"A\"=>6,\"D\"=>9,\"R\"=>8,\"O\"=>7), BOARD->17689, BROAD->18769\n",
      " Dict(\"A\"=>2,\"C\"=>9,\"E\"=>6,\"R\"=>1), CARE->9216, RACE->1296\n",
      " Dict(\"A\"=>2,\"C\"=>1,\"E\"=>6,\"R\"=>9), CARE->1296, RACE->9216\n",
      " Dict(\"A\"=>6,\"D\"=>4,\"L\"=>1,\"E\"=>7), DEAL->4761, LEAD->1764\n",
      " Dict(\"A\"=>6,\"D\"=>1,\"L\"=>4,\"E\"=>7), DEAL->1764, LEAD->4761\n",
      " Dict(\"S\"=>1,\"A\"=>9,\"T\"=>6,\"E\"=>2), EAST->2916, SEAT->1296\n",
      " Dict(\"I\"=>2,\"L\"=>1,\"E\"=>6,\"F\"=>9), FILE->9216, LIFE->1296\n",
      " Dict(\"I\"=>2,\"L\"=>9,\"E\"=>6,\"F\"=>1), FILE->1296, LIFE->9216\n",
      " Dict(\"A\"=>3,\"T\"=>6,\"E\"=>9,\"H\"=>1), HATE->1369, HEAT->1936\n",
      " Dict(\"A\"=>3,\"M\"=>1,\"L\"=>6,\"E\"=>9), MALE->1369, MEAL->1936\n",
      " Dict(\"A\"=>0,\"M\"=>9,\"N\"=>4,\"E\"=>6), MEAN->9604, NAME->4096\n",
      " Dict(\"A\"=>0,\"M\"=>2,\"N\"=>1,\"E\"=>4), MEAN->2401, NAME->1024\n",
      " Dict(\"T\"=>1,\"N\"=>9,\"E\"=>6,\"O\"=>2), NOTE->9216, TONE->1296\n",
      " Dict(\"T\"=>9,\"N\"=>1,\"E\"=>6,\"O\"=>2), NOTE->1296, TONE->9216\n",
      " Dict(\"S\"=>1,\"T\"=>6,\"P\"=>2,\"O\"=>9), POST->2916, SPOT->1296\n",
      " Dict(\"A\"=>0,\"T\"=>9,\"E\"=>6,\"R\"=>4), RATE->4096, TEAR->9604\n",
      " Dict(\"A\"=>0,\"T\"=>2,\"E\"=>4,\"R\"=>1), RATE->1024, TEAR->2401\n",
      " Dict(\"U\"=>6,\"S\"=>4,\"T\"=>1,\"H\"=>7), SHUT->4761, THUS->1764\n",
      " Dict(\"U\"=>6,\"S\"=>1,\"T\"=>4,\"H\"=>7), SHUT->1764, THUS->4761\n",
      " Dict(\"D\"=>9,\"G\"=>1,\"O\"=>6), DOG->961, GOD->169\n",
      " Dict(\"D\"=>1,\"G\"=>9,\"O\"=>6), DOG->169, GOD->961\n",
      " Dict(\"A\"=>6,\"T\"=>1,\"E\"=>9), EAT->961, TEA->196\n",
      " Dict(\"A\"=>5,\"T\"=>6,\"E\"=>2), EAT->256, TEA->625\n",
      " Dict(\"W\"=>1,\"H\"=>9,\"O\"=>6), HOW->961, WHO->196\n",
      " Dict(\"W\"=>6,\"H\"=>2,\"O\"=>5), HOW->256, WHO->625\n",
      " Dict(\"S\"=>1,\"I\"=>9,\"T\"=>6), ITS->961, SIT->196\n",
      " Dict(\"S\"=>6,\"I\"=>2,\"T\"=>5), ITS->256, SIT->625\n",
      " Dict(\"W\"=>5,\"N\"=>6,\"O\"=>2), NOW->625, OWN->256\n",
      " Dict(\"W\"=>6,\"N\"=>1,\"O\"=>9), NOW->196, OWN->961\n",
      "  0.815020 seconds (10.08 M allocations: 547.529 MiB, 13.79% gc time)\n"
     ]
    }
   ],
   "source": [
    "@time euler98()"
   ]
  },
  {
   "cell_type": "code",
   "execution_count": null,
   "metadata": {
    "collapsed": true
   },
   "outputs": [],
   "source": []
  }
 ],
 "metadata": {
  "kernelspec": {
   "display_name": "Julia 0.6.0-rc3",
   "language": "julia",
   "name": "julia-0.6"
  },
  "language_info": {
   "file_extension": ".jl",
   "mimetype": "application/julia",
   "name": "julia",
   "version": "0.6.0"
  },
  "latex_envs": {
   "LaTeX_envs_menu_present": true,
   "autocomplete": true,
   "bibliofile": "biblio.bib",
   "cite_by": "apalike",
   "current_citInitial": 1,
   "eqLabelWithNumbers": true,
   "eqNumInitial": 1,
   "hotkeys": {
    "equation": "Ctrl-E",
    "itemize": "Ctrl-I"
   },
   "labels_anchors": false,
   "latex_user_defs": false,
   "report_style_numbering": false,
   "user_envs_cfg": false
  },
  "varInspector": {
   "cols": {
    "lenName": 16,
    "lenType": 16,
    "lenVar": 40
   },
   "kernels_config": {
    "python": {
     "delete_cmd_postfix": "",
     "delete_cmd_prefix": "del ",
     "library": "var_list.py",
     "varRefreshCmd": "print(var_dic_list())"
    },
    "r": {
     "delete_cmd_postfix": ") ",
     "delete_cmd_prefix": "rm(",
     "library": "var_list.r",
     "varRefreshCmd": "cat(var_dic_list()) "
    }
   },
   "types_to_exclude": [
    "module",
    "function",
    "builtin_function_or_method",
    "instance",
    "_Feature"
   ],
   "window_display": false
  }
 },
 "nbformat": 4,
 "nbformat_minor": 2
}
