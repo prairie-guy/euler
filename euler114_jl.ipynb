{
 "cells": [
  {
   "cell_type": "markdown",
   "metadata": {},
   "source": [
    "## Euler Problem 114\n",
    "## Counting block combinations I"
   ]
  },
  {
   "cell_type": "markdown",
   "metadata": {},
   "source": [
    "A row measuring seven units in length has red blocks with a minimum length of three units placed on it, such that any two red blocks (which are allowed to be different lengths) are separated by at least one grey square. There are exactly seventeen ways of doing this.\n",
    "\n",
    "How many ways can a row measuring fifty units in length be filled?"
   ]
  },
  {
   "cell_type": "code",
   "execution_count": 1,
   "metadata": {},
   "outputs": [],
   "source": [
    "using Primes, Lazy, Combinatorics, BigCombinatorics"
   ]
  },
  {
   "cell_type": "markdown",
   "metadata": {},
   "source": [
    "This looks to be a partition problem. We will want to partition the blocks so that all blocks of size > 2 are seperated from each other by a '1'."
   ]
  },
  {
   "cell_type": "code",
   "execution_count": 2,
   "metadata": {
    "scrolled": true
   },
   "outputs": [
    {
     "data": {
      "text/plain": [
       "15-element Array{Any,1}:\n",
       " [7]                  \n",
       " [6, 1]               \n",
       " [5, 2]               \n",
       " [5, 1, 1]            \n",
       " [4, 3]               \n",
       " [4, 2, 1]            \n",
       " [4, 1, 1, 1]         \n",
       " [3, 3, 1]            \n",
       " [3, 2, 2]            \n",
       " [3, 2, 1, 1]         \n",
       " [3, 1, 1, 1, 1]      \n",
       " [2, 2, 2, 1]         \n",
       " [2, 2, 1, 1, 1]      \n",
       " [2, 1, 1, 1, 1, 1]   \n",
       " [1, 1, 1, 1, 1, 1, 1]"
      ]
     },
     "execution_count": 2,
     "metadata": {},
     "output_type": "execute_result"
    }
   ],
   "source": [
    "@>> collect(partitions(7))"
   ]
  },
  {
   "cell_type": "markdown",
   "metadata": {},
   "source": [
    "We need to make sure that we filter out '2's since these represent blocks of size 2. Moreover, we need to make sure that there are sufficient '1' to partition the other numbers."
   ]
  },
  {
   "cell_type": "code",
   "execution_count": 3,
   "metadata": {},
   "outputs": [
    {
     "data": {
      "text/plain": [
       "notwo_enoughones (generic function with 1 method)"
      ]
     },
     "execution_count": 3,
     "metadata": {},
     "output_type": "execute_result"
    }
   ],
   "source": [
    "function notwo_enoughones(ns)\n",
    "   return !(2 in ns) && (count(isone,ns) >= div(length(ns),2))\n",
    "end"
   ]
  },
  {
   "cell_type": "code",
   "execution_count": 14,
   "metadata": {
    "scrolled": false
   },
   "outputs": [
    {
     "name": "stdout",
     "output_type": "stream",
     "text": [
      "[7]\n",
      "[6, 1]\n",
      "[5, 1, 1]\n",
      "[4, 1, 1, 1]\n",
      "[3, 3, 1]\n",
      "[3, 1, 1, 1, 1]\n",
      "[1, 1, 1, 1, 1, 1, 1]\n"
     ]
    }
   ],
   "source": [
    "@>> collect(partitions(7)) filter(a-> notwo_enoughones(a)) @print_seq"
   ]
  },
  {
   "cell_type": "markdown",
   "metadata": {},
   "source": [
    "Need to filter out "
   ]
  },
  {
   "cell_type": "markdown",
   "metadata": {},
   "source": [
    "Logic for Combinations: Using the bars and stars approach. Where '1' are stars and other digits 'd' are bars. So for example with [3,3,1,1,1] there are 3 ones, with 2 gaps between and an additional spot on either end, i.e., 5 where we can place the 2 other digits. Generally, there are (n_ones + 1) spots to place the 'ds':\n",
    "\n",
    "`C(ones + 1, nd)`\n",
    "\n",
    "Next the combinations of digits that can fit into the (ones+1) needs to be taken into account:\n",
    "\n",
    "`nds!/(nd1!*nd2!*..)`\n",
    "\n",
    "Finally, \n",
    "\n",
    "`C(ones + 1, nd) * nds!/(nd1!*nd2!*..)`"
   ]
  },
  {
   "cell_type": "code",
   "execution_count": 5,
   "metadata": {},
   "outputs": [
    {
     "data": {
      "text/plain": [
       "combs (generic function with 1 method)"
      ]
     },
     "execution_count": 5,
     "metadata": {},
     "output_type": "execute_result"
    }
   ],
   "source": [
    "function combs(ds)\n",
    "    n_ds = length(ds)\n",
    "    n_ds == 1 && return(1)\n",
    "    fs = frequencies(ds)\n",
    "    n_ones = fs[1]\n",
    "    n_rest = n_ds - n_ones\n",
    "    parts  = div(factorial(n_rest), prod([factorial(n) for (d,n) in pairs(fs) if d != 1 ]))\n",
    "    choose = binomial(n_ones+1, n_rest)\n",
    "    return(parts * choose)                    \n",
    "end"
   ]
  },
  {
   "cell_type": "code",
   "execution_count": 6,
   "metadata": {
    "scrolled": false
   },
   "outputs": [
    {
     "ename": "LoadError",
     "evalue": "UndefVarError: @print_seq not defined",
     "output_type": "error",
     "traceback": [
      "UndefVarError: @print_seq not defined",
      ""
     ]
    }
   ],
   "source": [
    "@>> collect(partitions(7)) filter(a-> notwo_enoughones(a)) @print_seq"
   ]
  },
  {
   "cell_type": "code",
   "execution_count": 7,
   "metadata": {},
   "outputs": [
    {
     "data": {
      "text/plain": [
       "euler114 (generic function with 1 method)"
      ]
     },
     "execution_count": 7,
     "metadata": {},
     "output_type": "execute_result"
    }
   ],
   "source": [
    "function euler114(n)\n",
    "    @>> collect(partitions(n)) filter(a-> notwo_enoughones(a)) map(combs) sum\n",
    "end"
   ]
  },
  {
   "cell_type": "code",
   "execution_count": 8,
   "metadata": {},
   "outputs": [
    {
     "name": "stdout",
     "output_type": "stream",
     "text": [
      "  0.474151 seconds (1.60 M allocations: 112.954 MiB, 6.73% gc time)\n"
     ]
    },
    {
     "data": {
      "text/plain": [
       "16475640049"
      ]
     },
     "execution_count": 8,
     "metadata": {},
     "output_type": "execute_result"
    }
   ],
   "source": [
    "@time euler114(50)"
   ]
  },
  {
   "cell_type": "code",
   "execution_count": 9,
   "metadata": {},
   "outputs": [
    {
     "name": "stdout",
     "output_type": "stream",
     "text": [
      "  0.003747 seconds (16.85 k allocations: 1.520 MiB)\n"
     ]
    },
    {
     "data": {
      "text/plain": [
       "673135"
      ]
     },
     "execution_count": 9,
     "metadata": {},
     "output_type": "execute_result"
    }
   ],
   "source": [
    "@time euler114(29)"
   ]
  },
  {
   "cell_type": "markdown",
   "metadata": {},
   "source": [
    "### Utilities"
   ]
  },
  {
   "cell_type": "markdown",
   "metadata": {},
   "source": [
    "`Printing Utilities`"
   ]
  },
  {
   "cell_type": "code",
   "execution_count": 10,
   "metadata": {},
   "outputs": [
    {
     "data": {
      "text/plain": [
       "@print_seq (macro with 1 method)"
      ]
     },
     "execution_count": 10,
     "metadata": {},
     "output_type": "execute_result"
    }
   ],
   "source": [
    "macro print_seq(aseq) \n",
    "    :(for p in $aseq println(p) end) \n",
    "end"
   ]
  },
  {
   "cell_type": "code",
   "execution_count": 11,
   "metadata": {},
   "outputs": [
    {
     "data": {
      "text/plain": [
       "@print_seq (macro with 2 methods)"
      ]
     },
     "execution_count": 11,
     "metadata": {},
     "output_type": "execute_result"
    }
   ],
   "source": [
    "macro print_seq(aseq, lines)\n",
    "    :(for p in take($aseq,$lines) println(p) end)\n",
    "end"
   ]
  },
  {
   "cell_type": "markdown",
   "metadata": {},
   "source": [
    "`stats(dict) returns attributes of dict`"
   ]
  },
  {
   "cell_type": "code",
   "execution_count": 12,
   "metadata": {
    "scrolled": true
   },
   "outputs": [
    {
     "data": {
      "text/plain": [
       "stats (generic function with 1 method)"
      ]
     },
     "execution_count": 12,
     "metadata": {},
     "output_type": "execute_result"
    }
   ],
   "source": [
    "function stats(dict)\n",
    "    e = last(sort(collect(keys(dict))))\n",
    "    #m = last(sort(collect(values(dict))))\n",
    "    return(\"Dict[$e] = $(dict[e]), Size = $(length(dict))\")\n",
    "end"
   ]
  },
  {
   "cell_type": "markdown",
   "metadata": {},
   "source": [
    "`sorted_dict(dict) returns a sorted array of dictionary pairs`"
   ]
  },
  {
   "cell_type": "code",
   "execution_count": 13,
   "metadata": {
    "scrolled": true
   },
   "outputs": [
    {
     "data": {
      "text/plain": [
       "sorted_dict (generic function with 1 method)"
      ]
     },
     "execution_count": 13,
     "metadata": {},
     "output_type": "execute_result"
    }
   ],
   "source": [
    "sorted_dict(dict) = [(k,dict[k]) for k in sort(collect(keys(dict)))]"
   ]
  },
  {
   "cell_type": "code",
   "execution_count": null,
   "metadata": {},
   "outputs": [],
   "source": []
  }
 ],
 "metadata": {
  "kernelspec": {
   "display_name": "Julia 1.5.1",
   "language": "julia",
   "name": "julia-1.5"
  },
  "language_info": {
   "file_extension": ".jl",
   "mimetype": "application/julia",
   "name": "julia",
   "version": "1.5.1"
  }
 },
 "nbformat": 4,
 "nbformat_minor": 2
}
