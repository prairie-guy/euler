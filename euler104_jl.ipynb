{
 "cells": [
  {
   "cell_type": "code",
   "execution_count": 12,
   "metadata": {
    "collapsed": false
   },
   "outputs": [
    {
     "name": "stderr",
     "output_type": "stream",
     "text": [
      "\u001b[1m\u001b[33mWARNING: \u001b[39m\u001b[22m\u001b[33mreplacing docs for 'euler104 :: Tuple{Integer}' in module 'Main'.\u001b[39m\n",
      "\u001b[1m\u001b[33mWARNING: \u001b[39m\u001b[22m\u001b[33mreplacing docs for 'fibonacci :: Tuple{Integer}' in module 'Main'.\u001b[39m\n"
     ]
    },
    {
     "data": {
      "text/plain": [
       "fibonacci"
      ]
     },
     "execution_count": 12,
     "metadata": {},
     "output_type": "execute_result"
    }
   ],
   "source": [
    "\"\"\"\n",
    "euler104.jl\n",
    "12/18/2016\n",
    "\n",
    "The Fibonacci sequence is defined by the recurrence relation:\n",
    "\n",
    "Fn = Fn−1 + Fn−2, where F1 = 1 and F2 = 1.\n",
    "It turns out that F541, which contains 113 digits,\n",
    "is the first Fibonacci number for which the last nine digits are 1-9 pandigital\n",
    "(contain all the digits 1 to 9, but not necessarily in order).\n",
    "And F2749, which contains 575 digits, is the first Fibonacci number\n",
    "for which the first nine digits are 1-9 pandigital.\n",
    "\n",
    "Given that Fk is the first Fibonacci number for which the first nine digits AND\n",
    "the last nine digits are 1-9 pandigital, find k.\n",
    "\"\"\"\n",
    "\n",
    "function euler104(max::Integer)\n",
    "    (a, b) = (0, 1)\n",
    "    for ith = 1:max\n",
    "        (a, b)  = (a + (b % 10^9), a)\n",
    "        if (a > 999999999) && lastpandigits(a) && firstpandigits(ith)\n",
    "            return(ith)\n",
    "        end\n",
    "    end\n",
    "    return \"Not Found\"\n",
    "end\n",
    "\n",
    "function lastpandigits(fib::Integer)\n",
    "    last = lastdigits(fib, 9)\n",
    "    return sort(last) == [1, 2, 3, 4, 5, 6, 7, 8, 9]\n",
    "end\n",
    "\n",
    "function firstpandigits(ith::Integer)\n",
    "    fib = fibonacci(ith)\n",
    "    first = firstdigits(fib, 9)\n",
    "    return sort(first) == [1, 2, 3, 4, 5, 6, 7, 8, 9]\n",
    "end\n",
    "\n",
    "function firstdigits{T<:Integer}(n::T, d::T)\n",
    "    len =  ceil(T, log10(n))\n",
    "    return digits(div(n, 10^(len - d)))\n",
    "end\n",
    "\n",
    "function lastdigits{T<:Integer}(n::T, d::T)\n",
    "    l = n % 10^d\n",
    "    if l == 0\n",
    "        return zeros(T, d)\n",
    "    else\n",
    "        return digits(l)\n",
    "    end\n",
    "end\n",
    "\n",
    "\"\"\"Fast doubling Fibonacci algorithm\"\"\"\n",
    "function fibonacci(n::Integer)\n",
    "    function fibonacci2(n::Integer)\n",
    "        if n == 0\n",
    "            return (BigInt(0), BigInt(1))\n",
    "        else\n",
    "            a, b = fibonacci2(div(n, 2))\n",
    "            c = a * (b * 2 - a)\n",
    "            d = a * a + b * b\n",
    "            if n % 2 == 0\n",
    "                return (c, d)\n",
    "            else\n",
    "                return (d, c + d)\n",
    "            end\n",
    "        end\n",
    "    end\n",
    "    return fibonacci2(n)[1]\n",
    "end\n",
    "\n",
    "\n",
    "## @time euler104(350000)\n",
    "## 0.666689 seconds (1.70 M allocations: 219.733 MB, 2.02% gc time)\n",
    "## 329468\n",
    "\n",
    "\n"
   ]
  }
 ],
 "metadata": {
  "kernelspec": {
   "display_name": "Julia 0.6.0-rc3",
   "language": "julia",
   "name": "julia-0.6"
  },
  "language_info": {
   "file_extension": ".jl",
   "mimetype": "application/julia",
   "name": "julia",
   "version": "0.6.0"
  },
  "latex_envs": {
   "LaTeX_envs_menu_present": true,
   "autocomplete": true,
   "bibliofile": "biblio.bib",
   "cite_by": "apalike",
   "current_citInitial": 1,
   "eqLabelWithNumbers": true,
   "eqNumInitial": 1,
   "hotkeys": {
    "equation": "Ctrl-E",
    "itemize": "Ctrl-I"
   },
   "labels_anchors": false,
   "latex_user_defs": false,
   "report_style_numbering": false,
   "user_envs_cfg": false
  },
  "varInspector": {
   "cols": {
    "lenName": 16,
    "lenType": 16,
    "lenVar": 40
   },
   "kernels_config": {
    "python": {
     "delete_cmd_postfix": "",
     "delete_cmd_prefix": "del ",
     "library": "var_list.py",
     "varRefreshCmd": "print(var_dic_list())"
    },
    "r": {
     "delete_cmd_postfix": ") ",
     "delete_cmd_prefix": "rm(",
     "library": "var_list.r",
     "varRefreshCmd": "cat(var_dic_list()) "
    }
   },
   "types_to_exclude": [
    "module",
    "function",
    "builtin_function_or_method",
    "instance",
    "_Feature"
   ],
   "window_display": false
  }
 },
 "nbformat": 4,
 "nbformat_minor": 2
}
