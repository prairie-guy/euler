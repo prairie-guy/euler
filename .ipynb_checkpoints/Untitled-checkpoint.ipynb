{
 "cells": [
  {
   "cell_type": "code",
   "execution_count": 1,
   "metadata": {
    "collapsed": true
   },
   "outputs": [],
   "source": [
    "using Iterators"
   ]
  },
  {
   "cell_type": "code",
   "execution_count": 2,
   "metadata": {
    "collapsed": false
   },
   "outputs": [
    {
     "name": "stderr",
     "output_type": "stream",
     "text": [
      "\u001b[1m\u001b[33mWARNING: \u001b[39m\u001b[22m\u001b[33mtakebuf_string(b) is deprecated, use String(take!(b)) instead.\u001b[39m\n",
      "\u001b[1m\u001b[33mWARNING: \u001b[39m\u001b[22m in \u001b[33mtakebuf_array is deprecated, use take! instead.\u001b[39mdepwarn\n",
      "( in ::depwarnString(, ::String, ::Symbol)::Symbol) at ./deprecated.jl:64\n",
      " at  in ./deprecated.jltakebuf_string:(64\n",
      ":: in Basetakebuf_array.(AbstractIOBuffer{Array{UInt8,1}})::Base.AbstractIOBuffer{Array{UInt8,1}},  at ./deprecated.jl:50\n",
      ":: in Vararglimitstringmime{(Base.AbstractIOBuffer{Array{UInt8,1}},N})::MIME{Symbol(\"text/plain\")},  at ./deprecated.jl:30\n",
      ":: in Basesend_stream.(MethodList)::String) at /Users/cdaniels/.julia/v0.6/IJulia/src/execute_request.jl:37\n",
      " at  in /Users/cdaniels/.julia/v0.6/IJulia/src/stdio.jldisplay_dict:(111\n",
      ":: in Basesend_stdio.(MethodList)::String) at /Users/cdaniels/.julia/v0.6/IJulia/src/execute_request.jl:46\n",
      " at  in /Users/cdaniels/.julia/v0.6/IJulia/src/stdio.jlexecute_request:(88\n",
      ":: in ZMQ.Socket, (::Base.##327#328{IJulia.#send_stderr,Timer})(::)IJulia.Msg) at ./event.jl:402\n",
      "while loading /Users/cdaniels/.julia/v0.6/IJulia/src/kernel.jl, in expression starting on line 31 at \n",
      "/Users/cdaniels/.julia/v0.6/IJulia/src/execute_request.jl:206\n",
      " in eventloop(::ZMQ.Socket) at /Users/cdaniels/.julia/v0.6/IJulia/src/eventloop.jl:8\n",
      " in (::IJulia.##13#19)() at ./task.jl:404\n",
      "while loading /Users/cdaniels/.julia/v0.6/IJulia/src/kernel.jl, in expression starting on line 31\n",
      "\u001b[1m\u001b[33mWARNING: \u001b[39m\u001b[22m\u001b[1m\u001b[33mWARNING: \u001b[39m\u001b[22m\u001b[33mtakebuf_string(b) is deprecated, use String(take!(b)) instead.\u001b[39m\u001b[33mtakebuf_array is deprecated, use take! instead.\u001b[39m\n",
      "\n",
      " in  in depwarndepwarn((::String, ::String, ::Symbol)::Symbol) at ./deprecated.jl:64\n",
      " at  in ./deprecated.jltakebuf_string:(64\n",
      ":: in Basetakebuf_array.(AbstractIOBuffer{Array{UInt8,1}})::Base.AbstractIOBuffer{Array{UInt8,1}},  at ./deprecated.jl:50\n",
      ":: in Vararglimitstringmime{(Base.AbstractIOBuffer{Array{UInt8,1}},N})::MIME{Symbol(\"text/html\")},  at ./deprecated.jl:30\n",
      ":: in Basesend_stream.(MethodList)::String) at /Users/cdaniels/.julia/v0.6/IJulia/src/execute_request.jl:37\n",
      " at  in /Users/cdaniels/.julia/v0.6/IJulia/src/stdio.jldisplay_dict:(111\n",
      ":: in Basesend_stdio.(MethodList)::String) at /Users/cdaniels/.julia/v0.6/IJulia/src/execute_request.jl:58\n",
      " at  in /Users/cdaniels/.julia/v0.6/IJulia/src/stdio.jlexecute_request:(88\n",
      ":: in ZMQ.Socket, (::Base.##327#328{IJulia.#send_stderr,Timer})(::)IJulia.Msg) at ./event.jl:402\n",
      "while loading /Users/cdaniels/.julia/v0.6/IJulia/src/kernel.jl, in expression starting on line 31 at \n",
      "/Users/cdaniels/.julia/v0.6/IJulia/src/execute_request.jl"
     ]
    },
    {
     "data": {
      "text/html": [
       "2 methods for generic function <b>subsets</b>:<ul><li> subsets(xs) at <a href=\"https://github.com/JuliaLang/Iterators.jl/tree/dd9024cb2ecd269df10a85f547742adc0f45863c/src/Iterators.jl#L416\" target=\"_blank\">/Users/cdaniels/.julia/v0.6/Iterators/src/Iterators.jl:416</a></li> <li> subsets(xs, k) at <a href=\"https://github.com/JuliaLang/Iterators.jl/tree/dd9024cb2ecd269df10a85f547742adc0f45863c/src/Iterators.jl#L457\" target=\"_blank\">/Users/cdaniels/.julia/v0.6/Iterators/src/Iterators.jl:457</a></li> </ul>"
      ],
      "text/plain": [
       "# 2 methods for generic function \"subsets\":\n",
       "subsets(xs) in Iterators at /Users/cdaniels/.julia/v0.6/Iterators/src/Iterators.jl:416\n",
       "subsets(xs, k) in Iterators at /Users/cdaniels/.julia/v0.6/Iterators/src/Iterators.jl:457"
      ]
     },
     "execution_count": 2,
     "metadata": {},
     "output_type": "execute_result"
    },
    {
     "name": "stderr",
     "output_type": "stream",
     "text": [
      ":206\n",
      " in eventloop(::ZMQ.Socket) at /Users/cdaniels/.julia/v0.6/IJulia/src/eventloop.jl:8\n",
      " in (::IJulia.##13#19)() at ./task.jl:404\n",
      "while loading /Users/cdaniels/.julia/v0.6/IJulia/src/kernel.jl, in expression starting on line 31\n"
     ]
    }
   ],
   "source": [
    "methods(Iterators.subsets)"
   ]
  },
  {
   "cell_type": "code",
   "execution_count": 16,
   "metadata": {
    "collapsed": false
   },
   "outputs": [
    {
     "name": "stdout",
     "output_type": "stream",
     "text": [
      "  0.000035 seconds (334 allocations: 18.578 KB)\n"
     ]
    },
    {
     "data": {
      "text/plain": [
       "2-element Array{Int64,1}:\n",
       " 11\n",
       " 12"
      ]
     },
     "execution_count": 16,
     "metadata": {},
     "output_type": "execute_result"
    }
   ],
   "source": [
    "@time last(collect(Iterators.subsets(collect(1:12),2)))"
   ]
  },
  {
   "cell_type": "code",
   "execution_count": null,
   "metadata": {
    "collapsed": true
   },
   "outputs": [],
   "source": []
  },
  {
   "cell_type": "code",
   "execution_count": null,
   "metadata": {
    "collapsed": true
   },
   "outputs": [],
   "source": []
  },
  {
   "cell_type": "code",
   "execution_count": null,
   "metadata": {
    "collapsed": true
   },
   "outputs": [],
   "source": []
  },
  {
   "cell_type": "code",
   "execution_count": null,
   "metadata": {
    "collapsed": true
   },
   "outputs": [],
   "source": []
  },
  {
   "cell_type": "code",
   "execution_count": null,
   "metadata": {
    "collapsed": true
   },
   "outputs": [],
   "source": []
  },
  {
   "cell_type": "code",
   "execution_count": null,
   "metadata": {
    "collapsed": true
   },
   "outputs": [],
   "source": []
  },
  {
   "cell_type": "code",
   "execution_count": 9,
   "metadata": {
    "collapsed": true
   },
   "outputs": [],
   "source": [
    "using Combinatorics"
   ]
  },
  {
   "cell_type": "code",
   "execution_count": 10,
   "metadata": {
    "collapsed": false
   },
   "outputs": [
    {
     "data": {
      "text/plain": [
       "6-element Array{Array{Int64,1},1}:\n",
       " [1,2]\n",
       " [1,3]\n",
       " [1,4]\n",
       " [2,3]\n",
       " [2,4]\n",
       " [3,4]"
      ]
     },
     "execution_count": 10,
     "metadata": {},
     "output_type": "execute_result"
    }
   ],
   "source": [
    "collect(Combinatorics.combinations([1,2,3,4],2))"
   ]
  },
  {
   "cell_type": "code",
   "execution_count": null,
   "metadata": {
    "collapsed": true
   },
   "outputs": [],
   "source": []
  },
  {
   "cell_type": "code",
   "execution_count": null,
   "metadata": {
    "collapsed": true
   },
   "outputs": [],
   "source": []
  },
  {
   "cell_type": "code",
   "execution_count": null,
   "metadata": {
    "collapsed": true
   },
   "outputs": [],
   "source": []
  },
  {
   "cell_type": "code",
   "execution_count": 4,
   "metadata": {
    "collapsed": false
   },
   "outputs": [
    {
     "name": "stderr",
     "output_type": "stream",
     "text": [
      "\u001b[1m\u001b[36mINFO: \u001b[39m\u001b[22m\u001b[36mUpdating METADATA...\n",
      "\u001b[39m\u001b[1m\u001b[36mINFO: \u001b[39m\u001b[22m\u001b[36mComputing changes...\n",
      "\u001b[39m\u001b[1m\u001b[36mINFO: \u001b[39m\u001b[22m\u001b[36mNo packages to install, update or remove\n",
      "\u001b[39m"
     ]
    }
   ],
   "source": [
    "Pkg.update()"
   ]
  },
  {
   "cell_type": "code",
   "execution_count": 5,
   "metadata": {
    "collapsed": false
   },
   "outputs": [
    {
     "data": {
      "text/plain": [
       "\"Iterators.Subsets([1,2,3])\""
      ]
     },
     "execution_count": 5,
     "metadata": {},
     "output_type": "execute_result"
    },
    {
     "name": "stderr",
     "output_type": "stream",
     "text": [
      "\u001b[1m\u001b[33mWARNING: \u001b[39m\u001b[22m\u001b[33mtakebuf_string(b) is deprecated, use String(take!(b)) instead.\u001b[39m\n",
      " in depwarn(::String, ::Symbol) at ./deprecated.jl:64\n",
      " in takebuf_string(::Base.AbstractIOBuffer{Array{UInt8,1}}) at ./deprecated.jl:50\n",
      " in limitstringmime(::MIME{Symbol(\"text/plain\")}, ::String) at /Users/cdaniels/.julia/v0.6/IJulia/src/execute_request.jl:37\n",
      " in display_dict(::String) at /Users/cdaniels/.julia/v0.6/IJulia/src/execute_request.jl:46\n",
      " in execute_request(::ZMQ.Socket, ::IJulia.Msg) at /Users/cdaniels/.julia/v0.6/IJulia/src/execute_request.jl:206\n",
      " in eventloop(::ZMQ.Socket) at /Users/cdaniels/.julia/v0.6/IJulia/src/eventloop.jl:8\n",
      " in (::IJulia.##13#19)() at ./task.jl:404\n",
      "while loading /Users/cdaniels/.julia/v0.6/IJulia/src/kernel.jl, in expression starting on line 31\n"
     ]
    }
   ],
   "source": []
  },
  {
   "cell_type": "code",
   "execution_count": null,
   "metadata": {
    "collapsed": true
   },
   "outputs": [],
   "source": []
  }
 ],
 "metadata": {
  "kernelspec": {
   "display_name": "Julia 0.6.0-rc3",
   "language": "julia",
   "name": "julia-0.6"
  },
  "language_info": {
   "file_extension": ".jl",
   "mimetype": "application/julia",
   "name": "julia",
   "version": "0.6.0"
  }
 },
 "nbformat": 4,
 "nbformat_minor": 0
}
