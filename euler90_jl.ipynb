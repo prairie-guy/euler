{
 "cells": [
  {
   "cell_type": "markdown",
   "metadata": {},
   "source": [
    "# Cube digit pairs"
   ]
  },
  {
   "cell_type": "markdown",
   "metadata": {},
   "source": [
    "### Problem 90"
   ]
  },
  {
   "cell_type": "markdown",
   "metadata": {},
   "source": [
    "Each of the six faces on a cube has a different digit (0 to 9) written on it; the same is done to a second cube. By placing the two cubes side-by-side in different positions we can form a variety of 2-digit numbers.\n",
    "\n",
    "For example, the square number 64 could be formed: [6][4]\n",
    "\n",
    "\n",
    "In fact, by carefully choosing the digits on both cubes it is possible to display all of the square numbers below one-hundred: 01, 04, 09, 16, 25, 36, 49, 64, and 81.\n",
    "\n",
    "For example, one way this can be achieved is by placing {0, 5, 6, 7, 8, 9} on one cube and {1, 2, 3, 4, 8, 9} on the other cube.\n",
    "\n",
    "However, for this problem we shall allow the 6 or 9 to be turned upside-down so that an arrangement like {0, 5, 6, 7, 8, 9} and {1, 2, 3, 4, 6, 7} allows for all nine square numbers to be displayed; otherwise it would be impossible to obtain 09.\n",
    "\n",
    "In determining a distinct arrangement we are interested in the digits on each cube, not the order.\n",
    "\n",
    "{1, 2, 3, 4, 5, 6} is equivalent to {3, 6, 4, 1, 2, 5}\n",
    "\n",
    "{1, 2, 3, 4, 5, 6} is distinct from {1, 2, 3, 4, 5, 9}\n",
    "\n",
    "But because we are allowing 6 and 9 to be reversed, the two distinct sets in the last example both represent the extended set {1, 2, 3, 4, 5, 6, 9} for the purpose of forming 2-digit numbers.\n",
    "\n",
    "How many distinct arrangements of the two cubes allow for all of the square numbers to be displayed?"
   ]
  },
  {
   "cell_type": "code",
   "execution_count": 98,
   "metadata": {},
   "outputs": [],
   "source": [
    "using CBD, IterTools, Combinatorics"
   ]
  },
  {
   "cell_type": "markdown",
   "metadata": {},
   "source": [
    "A cube is represented by an array of length 6, in which the element, i.e., side, is distinct. By the constraints of the problem, the sides can be 0..9. \n",
    "\n",
    "The tweak to this problem is to account for the 6 or 9 being flippable from one to the other. This is easily done by extending the cube to include a \"virtual\" side with the flipped 6 or 9."
   ]
  },
  {
   "cell_type": "code",
   "execution_count": 99,
   "metadata": {},
   "outputs": [
    {
     "data": {
      "text/plain": [
       "extend_cube (generic function with 1 method)"
      ]
     },
     "execution_count": 99,
     "metadata": {},
     "output_type": "execute_result"
    }
   ],
   "source": [
    "function extend_cube(cube)\n",
    "    if length(cube) != 6 || !allunique(cube)\n",
    "        println(\"Error: $cube in not valid\")\n",
    "        return\n",
    "    end\n",
    "\n",
    "    if 6 in cube && 9 in cube\n",
    "        return cube\n",
    "    end\n",
    "\n",
    "    if 6 in cube\n",
    "        return vcat(cube,9)\n",
    "    end\n",
    "\n",
    "    if 9 in cube\n",
    "        return vcat(cube,6)\n",
    "    end\n",
    "    \n",
    "    return cube\n",
    "end"
   ]
  },
  {
   "cell_type": "markdown",
   "metadata": {},
   "source": [
    "The trick to the problem is to recognize the fact that each of the square numbers (01, 04,o 09, 16, 25, 36, 49, 64, 81) one of each of the two digits must be on one cube or the other. This allows for a very efficient boolean to be written to determine if any two valid cubes can represent all of the square number.  "
   ]
  },
  {
   "cell_type": "code",
   "execution_count": 100,
   "metadata": {},
   "outputs": [
    {
     "data": {
      "text/plain": [
       "do_cubes_square (generic function with 1 method)"
      ]
     },
     "execution_count": 100,
     "metadata": {},
     "output_type": "execute_result"
    }
   ],
   "source": [
    "function one_in_each(d1, d2, cube1, cube2)\n",
    "    (d1 in cube1 && d2 in cube2) || (d1 in cube2 && d2 in cube1)\n",
    "end\n",
    "\n",
    "function do_cubes_square(cube1, cube2)\n",
    "    #01, 04, 09, 16, 25, 36, 49, 64, 81\n",
    "    (c1, c2) = extend_cube(cube1), extend_cube(cube2)\n",
    "    all([\n",
    "            one_in_each(0,1,c1,c2),\n",
    "            one_in_each(0,4,c1,c2),\n",
    "            one_in_each(0,9,c1,c2),\n",
    "            one_in_each(1,6,c1,c2),\n",
    "            one_in_each(2,5,c1,c2),\n",
    "            one_in_each(3,6,c1,c2),\n",
    "            one_in_each(4,9,c1,c2),\n",
    "            one_in_each(6,4,c1,c2),\n",
    "            one_in_each(8,1,c1,c2),\n",
    "            ])\n",
    "end"
   ]
  },
  {
   "cell_type": "code",
   "execution_count": 101,
   "metadata": {},
   "outputs": [
    {
     "data": {
      "text/plain": [
       "euler90 (generic function with 1 method)"
      ]
     },
     "execution_count": 101,
     "metadata": {},
     "output_type": "execute_result"
    }
   ],
   "source": [
    "function euler90()\n",
    "    total = 0\n",
    "    for (idx,c1) in enumerate(combinations(0:9,6))\n",
    "        for c2 in collect(combinations(0:9,6))[idx:end] ## collect realizes an array from an iterator\n",
    "            if do_cubes_square(c1,c2)\n",
    "                total +=1\n",
    "            end\n",
    "        end\n",
    "    end\n",
    "    total\n",
    "end"
   ]
  },
  {
   "cell_type": "code",
   "execution_count": 103,
   "metadata": {},
   "outputs": [
    {
     "name": "stdout",
     "output_type": "stream",
     "text": [
      "  0.255590 seconds (1.37 M allocations: 73.171 MiB, 4.40% gc time)\n"
     ]
    },
    {
     "data": {
      "text/html": [
       "1217"
      ],
      "text/plain": [
       "1217"
      ]
     },
     "execution_count": 103,
     "metadata": {},
     "output_type": "execute_result"
    }
   ],
   "source": [
    "@time euler90()"
   ]
  },
  {
   "cell_type": "code",
   "execution_count": null,
   "metadata": {
    "collapsed": true
   },
   "outputs": [],
   "source": []
  }
 ],
 "metadata": {
  "kernelspec": {
   "display_name": "Julia 1.5.1",
   "language": "julia",
   "name": "julia-1.5"
  },
  "language_info": {
   "file_extension": ".jl",
   "mimetype": "application/julia",
   "name": "julia",
   "version": "1.5.1"
  },
  "latex_envs": {
   "LaTeX_envs_menu_present": true,
   "autocomplete": true,
   "bibliofile": "biblio.bib",
   "cite_by": "apalike",
   "current_citInitial": 1,
   "eqLabelWithNumbers": true,
   "eqNumInitial": 1,
   "hotkeys": {
    "equation": "Ctrl-E",
    "itemize": "Ctrl-I"
   },
   "labels_anchors": false,
   "latex_user_defs": false,
   "report_style_numbering": false,
   "user_envs_cfg": false
  },
  "varInspector": {
   "cols": {
    "lenName": 16,
    "lenType": 16,
    "lenVar": 40
   },
   "kernels_config": {
    "python": {
     "delete_cmd_postfix": "",
     "delete_cmd_prefix": "del ",
     "library": "var_list.py",
     "varRefreshCmd": "print(var_dic_list())"
    },
    "r": {
     "delete_cmd_postfix": ") ",
     "delete_cmd_prefix": "rm(",
     "library": "var_list.r",
     "varRefreshCmd": "cat(var_dic_list()) "
    }
   },
   "types_to_exclude": [
    "module",
    "function",
    "builtin_function_or_method",
    "instance",
    "_Feature"
   ],
   "window_display": false
  }
 },
 "nbformat": 4,
 "nbformat_minor": 2
}
