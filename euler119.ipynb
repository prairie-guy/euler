{
 "cells": [
  {
   "cell_type": "markdown",
   "metadata": {},
   "source": [
    "# Digit power sum"
   ]
  },
  {
   "cell_type": "markdown",
   "metadata": {},
   "source": [
    "### Problem 119"
   ]
  },
  {
   "cell_type": "markdown",
   "metadata": {},
   "source": [
    "The number 512 is interesting because it is equal to the sum of its digits raised to some power: 5 + 1 + 2 = 8, and 8^3 = 512. Another example of a number with this property is 614656 = 28^4.\n",
    "\n",
    "We shall define an to be the nth term of this sequence and insist that a number must contain at least two digits to have a sum.\n",
    "\n",
    "You are given that a2 = 512 and a10 = 614656.\n",
    "\n",
    "Find a30."
   ]
  },
  {
   "cell_type": "code",
   "execution_count": 1,
   "metadata": {
    "collapsed": false
   },
   "outputs": [
    {
     "data": {
      "text/plain": [
       "printiter (generic function with 1 method)"
      ]
     },
     "execution_count": 1,
     "metadata": {},
     "output_type": "execute_result"
    }
   ],
   "source": [
    "using CBD, IterTools, Combinatorics, Primes, Lazy, Match\n",
    "# Combinatorics source code contains many useful functions not found in README\n",
    "\n",
    "function printiter(itr)\n",
    "    for i in itr\n",
    "        println(i)\n",
    "    end\n",
    "end"
   ]
  },
  {
   "cell_type": "code",
   "execution_count": 2,
   "metadata": {
    "collapsed": false
   },
   "outputs": [
    {
     "data": {
      "text/plain": [
       "sod (generic function with 1 method)"
      ]
     },
     "execution_count": 2,
     "metadata": {},
     "output_type": "execute_result"
    }
   ],
   "source": [
    "function sod(n)\n",
    "    ds = digits(n)\n",
    "    sd = sum(ds)\n",
    "    return (length(ds),sum(ds))\n",
    "end"
   ]
  },
  {
   "cell_type": "code",
   "execution_count": 3,
   "metadata": {
    "collapsed": false
   },
   "outputs": [
    {
     "data": {
      "text/plain": [
       "(3, 8)"
      ]
     },
     "execution_count": 3,
     "metadata": {},
     "output_type": "execute_result"
    }
   ],
   "source": [
    "sod(512)"
   ]
  },
  {
   "cell_type": "markdown",
   "metadata": {},
   "source": [
    "So the strategy here is to iterate over a given `bases` and `pows`, which for a_2 was `8` and `3` respectively. \n",
    "\n",
    "We then look to see if the `base == sod(base^pow)`.\n",
    "\n",
    "In example, this is true: `8 == sod(8^3) == sod(512)`"
   ]
  },
  {
   "cell_type": "code",
   "execution_count": 19,
   "metadata": {
    "collapsed": false
   },
   "outputs": [
    {
     "data": {
      "text/plain": [
       "euler119 (generic function with 1 method)"
      ]
     },
     "execution_count": 19,
     "metadata": {},
     "output_type": "execute_result"
    }
   ],
   "source": [
    "function euler119(maxbase, maxpow)\n",
    "    result = []\n",
    "    for pow = one(BigInt):maxpow\n",
    "        for base = 3:maxbase\n",
    "            base_pow = base^pow\n",
    "            (len, sumdigits) = sod(base_pow)\n",
    "            if len > 1 && base == sumdigits\n",
    "                push!(result, (base_pow, base, pow))\n",
    "            end\n",
    "        end\n",
    "    end\n",
    "sort(result)\n",
    "end"
   ]
  },
  {
   "cell_type": "markdown",
   "metadata": {},
   "source": [
    "a_2 = 512 and a_10 = 614656 show up as expected."
   ]
  },
  {
   "cell_type": "code",
   "execution_count": 20,
   "metadata": {
    "collapsed": false
   },
   "outputs": [
    {
     "name": "stdout",
     "output_type": "stream",
     "text": [
      "  0.057224 seconds (15.70 k allocations: 563.763 KiB)\n"
     ]
    },
    {
     "data": {
      "text/plain": [
       "14-element Array{Any,1}:\n",
       " (81, 9, 2)          \n",
       " (512, 8, 3)         \n",
       " (2401, 7, 4)        \n",
       " (4913, 17, 3)       \n",
       " (5832, 18, 3)       \n",
       " (17576, 26, 3)      \n",
       " (19683, 27, 3)      \n",
       " (234256, 22, 4)     \n",
       " (390625, 25, 4)     \n",
       " (614656, 28, 4)     \n",
       " (17210368, 28, 5)   \n",
       " (34012224, 18, 6)   \n",
       " (612220032, 18, 7)  \n",
       " (10460353203, 27, 7)"
      ]
     },
     "execution_count": 20,
     "metadata": {},
     "output_type": "execute_result"
    }
   ],
   "source": [
    "@time euler119(28,8)"
   ]
  },
  {
   "cell_type": "markdown",
   "metadata": {},
   "source": [
    "Rather than finding a theoretical basis for the upper range to `pow`, I just heuristically checked that there was convergence.\n",
    "\n",
    "This results in a_30 = 248155780267521"
   ]
  },
  {
   "cell_type": "code",
   "execution_count": 21,
   "metadata": {
    "collapsed": false
   },
   "outputs": [
    {
     "name": "stdout",
     "output_type": "stream",
     "text": [
      "  0.008250 seconds (81.15 k allocations: 2.290 MiB)\n"
     ]
    },
    {
     "data": {
      "text/plain": [
       "(248155780267521, 63, 8)"
      ]
     },
     "execution_count": 21,
     "metadata": {},
     "output_type": "execute_result"
    }
   ],
   "source": [
    "@time euler119(100,10)[30]"
   ]
  },
  {
   "cell_type": "markdown",
   "metadata": {},
   "source": [
    "What is still unclear to me what the range for `base` and `pow` should be. One can clearly see that 10^i, for i=1:n will always have a sod(10^1) = 1. So, this is the exception that in general there is no \"clean\" way to put an upper bound on `pow`. One could create specific rules for sod(n^i) is constant for a specific n and all i, as in this case. \n",
    "\n",
    "Moreover, with a modification of the output, one can see that there are multiple `pows` for a given `base` that are solutions. Perhaps it is possible to establish a maximum number of solutions for a given `base`. It appears that this is a real possibility.\n",
    "\n",
    "On the other hand, it may be possible that there are an infinite number for some. \n",
    "\n",
    "Further investigation is needed."
   ]
  },
  {
   "cell_type": "code",
   "execution_count": 28,
   "metadata": {
    "collapsed": false
   },
   "outputs": [
    {
     "data": {
      "text/plain": [
       "euler119_2 (generic function with 1 method)"
      ]
     },
     "execution_count": 28,
     "metadata": {},
     "output_type": "execute_result"
    }
   ],
   "source": [
    "function euler119_2(maxbase, maxpow)\n",
    "    result = []\n",
    "    for pow = one(BigInt):maxpow\n",
    "        for base = 3:maxbase\n",
    "            base_pow = base^pow\n",
    "            (len, sumdigits) = sod(base_pow)\n",
    "            if len > 1 && base == sumdigits\n",
    "                #push!(result, (base_pow, base, pow))\n",
    "                push!(result, (base, pow, base_pow))\n",
    "            end\n",
    "        end\n",
    "    end\n",
    "sort(result)\n",
    "end"
   ]
  },
  {
   "cell_type": "code",
   "execution_count": 57,
   "metadata": {
    "collapsed": false
   },
   "outputs": [
    {
     "name": "stdout",
     "output_type": "stream",
     "text": [
      "  0.003609 seconds (34.20 k allocations: 992.352 KiB)\n"
     ]
    },
    {
     "data": {
      "text/plain": [
       "23-element Array{Any,1}:\n",
       " (7, 4, 2401)           \n",
       " (8, 3, 512)            \n",
       " (9, 2, 81)             \n",
       " (17, 3, 4913)          \n",
       " (18, 3, 5832)          \n",
       " (18, 6, 34012224)      \n",
       " (18, 7, 612220032)     \n",
       " (22, 4, 234256)        \n",
       " (25, 4, 390625)        \n",
       " (26, 3, 17576)         \n",
       " (27, 3, 19683)         \n",
       " (27, 7, 10460353203)   \n",
       " (28, 4, 614656)        \n",
       " (28, 5, 17210368)      \n",
       " (31, 7, 27512614111)   \n",
       " (34, 7, 52523350144)   \n",
       " (35, 5, 52521875)      \n",
       " (36, 4, 1679616)       \n",
       " (36, 5, 60466176)      \n",
       " (43, 7, 271818611107)  \n",
       " (45, 6, 8303765625)    \n",
       " (46, 5, 205962976)     \n",
       " (46, 8, 20047612231936)"
      ]
     },
     "execution_count": 57,
     "metadata": {},
     "output_type": "execute_result"
    }
   ],
   "source": [
    "@time euler119_2(50,10)"
   ]
  },
  {
   "cell_type": "code",
   "execution_count": 59,
   "metadata": {
    "collapsed": false
   },
   "outputs": [
    {
     "name": "stdout",
     "output_type": "stream",
     "text": [
      "(7, 4, 2401)\n",
      "(8, 3, 512)\n",
      "(9, 2, 81)\n",
      "  0.140153 seconds (1.13 M allocations: 30.963 MiB, 29.08% gc time)\n"
     ]
    }
   ],
   "source": [
    "@time printiter(euler119_2(10,200))"
   ]
  },
  {
   "cell_type": "code",
   "execution_count": 65,
   "metadata": {
    "collapsed": false
   },
   "outputs": [
    {
     "name": "stdout",
     "output_type": "stream",
     "text": [
      "  1.719194 seconds (31.31 M allocations: 863.167 MiB, 31.02% gc time)\n"
     ]
    },
    {
     "data": {
      "text/plain": [
       "(559, 47, 1343862918933208128252853899399476910012510280330517315311823977359183082418657326693462308703824606985519685000604467535402464719)"
      ]
     },
     "execution_count": 65,
     "metadata": {},
     "output_type": "execute_result"
    }
   ],
   "source": [
    "@time euler119_2(560,73)[end]"
   ]
  },
  {
   "cell_type": "code",
   "execution_count": 67,
   "metadata": {
    "collapsed": false
   },
   "outputs": [
    {
     "name": "stdout",
     "output_type": "stream",
     "text": [
      "  0.002351 seconds (17.74 k allocations: 516.000 KiB)\n"
     ]
    },
    {
     "data": {
      "text/plain": [
       "14-element Array{Any,1}:\n",
       " (81, 9, 2)          \n",
       " (512, 8, 3)         \n",
       " (2401, 7, 4)        \n",
       " (4913, 17, 3)       \n",
       " (5832, 18, 3)       \n",
       " (17576, 26, 3)      \n",
       " (19683, 27, 3)      \n",
       " (234256, 22, 4)     \n",
       " (390625, 25, 4)     \n",
       " (614656, 28, 4)     \n",
       " (17210368, 28, 5)   \n",
       " (34012224, 18, 6)   \n",
       " (612220032, 18, 7)  \n",
       " (10460353203, 27, 7)"
      ]
     },
     "execution_count": 67,
     "metadata": {},
     "output_type": "execute_result"
    }
   ],
   "source": [
    "@time euler119(30,10)"
   ]
  },
  {
   "cell_type": "code",
   "execution_count": null,
   "metadata": {
    "collapsed": true
   },
   "outputs": [],
   "source": []
  }
 ],
 "metadata": {
  "kernelspec": {
   "display_name": "Julia 0.6.0-rc3",
   "language": "julia",
   "name": "julia-0.6"
  },
  "language_info": {
   "file_extension": ".jl",
   "mimetype": "application/julia",
   "name": "julia",
   "version": "0.6.0"
  },
  "latex_envs": {
   "LaTeX_envs_menu_present": true,
   "autocomplete": true,
   "bibliofile": "biblio.bib",
   "cite_by": "apalike",
   "current_citInitial": 1,
   "eqLabelWithNumbers": true,
   "eqNumInitial": 1,
   "hotkeys": {
    "equation": "Ctrl-E",
    "itemize": "Ctrl-I"
   },
   "labels_anchors": false,
   "latex_user_defs": false,
   "report_style_numbering": false,
   "user_envs_cfg": false
  },
  "varInspector": {
   "cols": {
    "lenName": 16,
    "lenType": 16,
    "lenVar": 40
   },
   "kernels_config": {
    "python": {
     "delete_cmd_postfix": "",
     "delete_cmd_prefix": "del ",
     "library": "var_list.py",
     "varRefreshCmd": "print(var_dic_list())"
    },
    "r": {
     "delete_cmd_postfix": ") ",
     "delete_cmd_prefix": "rm(",
     "library": "var_list.r",
     "varRefreshCmd": "cat(var_dic_list()) "
    }
   },
   "types_to_exclude": [
    "module",
    "function",
    "builtin_function_or_method",
    "instance",
    "_Feature"
   ],
   "window_display": false
  }
 },
 "nbformat": 4,
 "nbformat_minor": 2
}
