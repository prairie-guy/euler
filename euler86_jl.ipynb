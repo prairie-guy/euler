{
 "cells": [
  {
   "cell_type": "markdown",
   "metadata": {},
   "source": [
    "# Cuboid route"
   ]
  },
  {
   "cell_type": "markdown",
   "metadata": {},
   "source": [
    "### Problem 86"
   ]
  },
  {
   "cell_type": "markdown",
   "metadata": {},
   "source": [
    "A spider, S, sits in one corner of a cuboid room, measuring 6 by 5 by 3, and a fly, F, sits in the opposite corner. By travelling on the surfaces of the room the shortest \"straight line\" distance from S to F is 10 and the path is shown on the diagram.\n",
    "\n",
    "However, there are up to three \"shortest\" path candidates for any given cuboid and the shortest route doesn't always have integer length.\n",
    "\n",
    "It can be shown that there are exactly 2060 distinct cuboids, ignoring rotations, with integer dimensions, up to a maximum size of M by M by M, for which the shortest route has integer length when M = 100. This is the least value of M for which the number of solutions first exceeds two thousand; the number of solutions when M = 99 is 1975.\n",
    "\n",
    "Find the least value of M such that the number of solutions first exceeds one million."
   ]
  },
  {
   "cell_type": "code",
   "execution_count": 1,
   "metadata": {
    "collapsed": false
   },
   "outputs": [],
   "source": [
    "using CBD"
   ]
  },
  {
   "cell_type": "code",
   "execution_count": 123,
   "metadata": {
    "collapsed": false,
    "scrolled": true
   },
   "outputs": [
    {
     "name": "stdout",
     "output_type": "stream",
     "text": [
      "1 [3, 4, 5]\n",
      "2 [5, 12, 13]\n",
      "3 [15, 8, 17]\n",
      "4 [7, 24, 25]\n",
      "5 [21, 20, 29]\n",
      "6 [35, 12, 37]\n",
      "7 [9, 40, 41]\n",
      "8 [45, 28, 53]\n",
      "9 [11, 60, 61]\n",
      "10 [33, 56, 65]\n",
      "11 [63, 16, 65]\n",
      "12 [55, 48, 73]\n",
      "13 [13, 84, 85]\n",
      "14 [77, 36, 85]\n",
      "15 [39, 80, 89]\n",
      "16 [65, 72, 97]\n"
     ]
    }
   ],
   "source": [
    "for (i,t) in enumerate(sort!(triples(100),by=last))\n",
    "   println(\"$i $t\")\n",
    "end"
   ]
  },
  {
   "cell_type": "code",
   "execution_count": 60,
   "metadata": {
    "collapsed": false
   },
   "outputs": [
    {
     "data": {
      "text/plain": [
       "sorted_prime_triples (generic function with 1 method)"
      ]
     },
     "execution_count": 60,
     "metadata": {},
     "output_type": "execute_result"
    }
   ],
   "source": [
    "sorted_prime_triples(M) = sort!(map(sort!, triples(M)), by=first)"
   ]
  },
  {
   "cell_type": "code",
   "execution_count": 61,
   "metadata": {
    "collapsed": false
   },
   "outputs": [
    {
     "data": {
      "text/plain": [
       "16-element Array{Array{Int64,1},1}:\n",
       " [3, 4, 5]   \n",
       " [5, 12, 13] \n",
       " [7, 24, 25] \n",
       " [8, 15, 17] \n",
       " [9, 40, 41] \n",
       " [11, 60, 61]\n",
       " [12, 35, 37]\n",
       " [13, 84, 85]\n",
       " [16, 63, 65]\n",
       " [20, 21, 29]\n",
       " [28, 45, 53]\n",
       " [33, 56, 65]\n",
       " [36, 77, 85]\n",
       " [39, 80, 89]\n",
       " [48, 55, 73]\n",
       " [65, 72, 97]"
      ]
     },
     "execution_count": 61,
     "metadata": {},
     "output_type": "execute_result"
    }
   ],
   "source": [
    "sorted_prime_triples(100)"
   ]
  },
  {
   "cell_type": "code",
   "execution_count": 62,
   "metadata": {
    "collapsed": false
   },
   "outputs": [
    {
     "data": {
      "text/plain": [
       "canidate_prime_triples (generic function with 1 method)"
      ]
     },
     "execution_count": 62,
     "metadata": {},
     "output_type": "execute_result"
    }
   ],
   "source": [
    "canidate_prime_triples(M) = filter(t->t[1]<=M && ceil(Integer,t[2]/2 <= M), sorted_prime_triples(3M))"
   ]
  },
  {
   "cell_type": "code",
   "execution_count": 6,
   "metadata": {
    "collapsed": false
   },
   "outputs": [
    {
     "data": {
      "text/plain": [
       "7-element Array{Array{Int64,1},1}:\n",
       " [3, 4, 5]   \n",
       " [5, 12, 13] \n",
       " [7, 24, 25] \n",
       " [8, 15, 17] \n",
       " [9, 40, 41] \n",
       " [12, 35, 37]\n",
       " [20, 21, 29]"
      ]
     },
     "execution_count": 6,
     "metadata": {},
     "output_type": "execute_result"
    }
   ],
   "source": [
    "canidate_prime_triples(20)"
   ]
  },
  {
   "cell_type": "code",
   "execution_count": 49,
   "metadata": {
    "collapsed": false
   },
   "outputs": [
    {
     "data": {
      "text/plain": [
       "all_triples (generic function with 1 method)"
      ]
     },
     "execution_count": 49,
     "metadata": {},
     "output_type": "execute_result"
    }
   ],
   "source": [
    "all_triples(M) = [[m*a,m*b,m*c] \n",
    "    for (a,b,c) in canidate_prime_triples(M) \n",
    "    for m = 1:ceil(Integer, M/a)  \n",
    "    if (t->t[1]<=M && ceil(Integer,t[2]/2 <= M))([m*a,m*b,m*c])]"
   ]
  },
  {
   "cell_type": "code",
   "execution_count": 50,
   "metadata": {
    "collapsed": false
   },
   "outputs": [
    {
     "data": {
      "text/plain": [
       "15-element Array{Array{Int64,1},1}:\n",
       " [3, 4, 5]   \n",
       " [6, 8, 10]  \n",
       " [9, 12, 15] \n",
       " [12, 16, 20]\n",
       " [15, 20, 25]\n",
       " [18, 24, 30]\n",
       " [5, 12, 13] \n",
       " [10, 24, 26]\n",
       " [15, 36, 39]\n",
       " [7, 24, 25] \n",
       " [8, 15, 17] \n",
       " [16, 30, 34]\n",
       " [9, 40, 41] \n",
       " [12, 35, 37]\n",
       " [20, 21, 29]"
      ]
     },
     "execution_count": 50,
     "metadata": {},
     "output_type": "execute_result"
    }
   ],
   "source": [
    "all_triples(20)"
   ]
  },
  {
   "cell_type": "code",
   "execution_count": 51,
   "metadata": {
    "collapsed": false
   },
   "outputs": [
    {
     "data": {
      "text/plain": [
       "cuboids (generic function with 1 method)"
      ]
     },
     "execution_count": 51,
     "metadata": {},
     "output_type": "execute_result"
    }
   ],
   "source": [
    "function cuboids(pt)\n",
    "    (a,b,c) = pt\n",
    "    as = [[s,t,b] for s = 1:floor(Integer, a/2) for t = a - s ]\n",
    "    bs = [[a,s,t] for s = 1:floor(Integer, b/2) for t = b - s ]\n",
    "    append!(as,bs)\n",
    "end"
   ]
  },
  {
   "cell_type": "code",
   "execution_count": 52,
   "metadata": {
    "collapsed": false
   },
   "outputs": [
    {
     "data": {
      "text/plain": [
       "3-element Array{Array{Int64,1},1}:\n",
       " [1, 2, 4]\n",
       " [3, 1, 3]\n",
       " [3, 2, 2]"
      ]
     },
     "execution_count": 52,
     "metadata": {},
     "output_type": "execute_result"
    }
   ],
   "source": [
    "cuboids([3,4,5])"
   ]
  },
  {
   "cell_type": "code",
   "execution_count": 53,
   "metadata": {
    "collapsed": false
   },
   "outputs": [
    {
     "data": {
      "text/plain": [
       "8-element Array{Array{Int64,1},1}:\n",
       " [1, 4, 12]\n",
       " [2, 3, 12]\n",
       " [5, 1, 11]\n",
       " [5, 2, 10]\n",
       " [5, 3, 9] \n",
       " [5, 4, 8] \n",
       " [5, 5, 7] \n",
       " [5, 6, 6] "
      ]
     },
     "execution_count": 53,
     "metadata": {},
     "output_type": "execute_result"
    }
   ],
   "source": [
    "cuboids([5,12,13])"
   ]
  },
  {
   "cell_type": "code",
   "execution_count": 54,
   "metadata": {
    "collapsed": false
   },
   "outputs": [
    {
     "data": {
      "text/plain": [
       "15-element Array{Array{Int64,1},1}:\n",
       " [1, 6, 24] \n",
       " [2, 5, 24] \n",
       " [3, 4, 24] \n",
       " [7, 1, 23] \n",
       " [7, 2, 22] \n",
       " [7, 3, 21] \n",
       " [7, 4, 20] \n",
       " [7, 5, 19] \n",
       " [7, 6, 18] \n",
       " [7, 7, 17] \n",
       " [7, 8, 16] \n",
       " [7, 9, 15] \n",
       " [7, 10, 14]\n",
       " [7, 11, 13]\n",
       " [7, 12, 12]"
      ]
     },
     "execution_count": 54,
     "metadata": {},
     "output_type": "execute_result"
    }
   ],
   "source": [
    "cuboids([7, 24, 25])"
   ]
  },
  {
   "cell_type": "code",
   "execution_count": 115,
   "metadata": {
    "collapsed": false
   },
   "outputs": [
    {
     "data": {
      "text/plain": [
       "has_minimum_integer_path (generic function with 1 method)"
      ]
     },
     "execution_count": 115,
     "metadata": {},
     "output_type": "execute_result"
    }
   ],
   "source": [
    "function has_minimum_integer_path(b,h,l)\n",
    "    isinteger(min(sqrt(b^2 + (h+l)^2), sqrt(h^2 + (b+l)^2), sqrt(l^2 + (b+h)^2))) \n",
    "end"
   ]
  },
  {
   "cell_type": "code",
   "execution_count": 116,
   "metadata": {
    "collapsed": false
   },
   "outputs": [
    {
     "data": {
      "text/plain": [
       "cuboids_with_minimum_integer_paths_upto_M (generic function with 1 method)"
      ]
     },
     "execution_count": 116,
     "metadata": {},
     "output_type": "execute_result"
    }
   ],
   "source": [
    "function cuboids_with_minimum_integer_paths_upto_M(M)\n",
    "    result = []\n",
    "    for (a,b,c) = all_triples(M)\n",
    "        for (b,h,l) = cuboids([a,b,c])\n",
    "            if (b <= M && h <= M && l <= M) && has_minimum_integer_path(b,h,l)\n",
    "                r = [b,h,l]\n",
    "                sort!(r)\n",
    "                push!(result,r)\n",
    "            end\n",
    "        end\n",
    "    end\n",
    "    unique(sort(result, by=x->(x[1],x[2],x[3])))\n",
    "end"
   ]
  },
  {
   "cell_type": "code",
   "execution_count": 117,
   "metadata": {
    "collapsed": false
   },
   "outputs": [
    {
     "name": "stdout",
     "output_type": "stream",
     "text": [
      "  0.194552 seconds (78.26 k allocations: 4.186 MiB)\n"
     ]
    },
    {
     "data": {
      "text/plain": [
       "1975"
      ]
     },
     "execution_count": 117,
     "metadata": {},
     "output_type": "execute_result"
    }
   ],
   "source": [
    "@time length(cuboids_with_minimum_integer_paths_upto_M(99))"
   ]
  },
  {
   "cell_type": "code",
   "execution_count": 118,
   "metadata": {
    "collapsed": false
   },
   "outputs": [
    {
     "name": "stdout",
     "output_type": "stream",
     "text": [
      " 10.048690 seconds (114.03 M allocations: 2.928 GiB, 8.07% gc time)\n"
     ]
    },
    {
     "data": {
      "text/plain": [
       "999850"
      ]
     },
     "execution_count": 118,
     "metadata": {},
     "output_type": "execute_result"
    }
   ],
   "source": [
    "@time length(cuboids_with_minimum_integer_paths_upto_M(1817))"
   ]
  },
  {
   "cell_type": "code",
   "execution_count": 119,
   "metadata": {
    "collapsed": false
   },
   "outputs": [
    {
     "name": "stdout",
     "output_type": "stream",
     "text": [
      " 10.133242 seconds (114.15 M allocations: 2.931 GiB, 8.87% gc time)\n"
     ]
    },
    {
     "data": {
      "text/plain": [
       "1000457"
      ]
     },
     "execution_count": 119,
     "metadata": {},
     "output_type": "execute_result"
    }
   ],
   "source": [
    "@time length(cuboids_with_minimum_integer_paths_upto_M(1818))"
   ]
  },
  {
   "cell_type": "markdown",
   "metadata": {},
   "source": [
    "### So the solution is 1818"
   ]
  },
  {
   "cell_type": "code",
   "execution_count": null,
   "metadata": {
    "collapsed": true
   },
   "outputs": [],
   "source": [
    "@time length(cuboids_with_minimum_integer_paths_upto_M(5000))"
   ]
  },
  {
   "cell_type": "code",
   "execution_count": null,
   "metadata": {
    "collapsed": true
   },
   "outputs": [],
   "source": []
  }
 ],
 "metadata": {
  "kernelspec": {
   "display_name": "Julia 0.6.0-rc3",
   "language": "julia",
   "name": "julia-0.6"
  },
  "language_info": {
   "file_extension": ".jl",
   "mimetype": "application/julia",
   "name": "julia",
   "version": "0.6.0"
  },
  "latex_envs": {
   "LaTeX_envs_menu_present": true,
   "autocomplete": true,
   "bibliofile": "biblio.bib",
   "cite_by": "apalike",
   "current_citInitial": 1,
   "eqLabelWithNumbers": true,
   "eqNumInitial": 1,
   "hotkeys": {
    "equation": "Ctrl-E",
    "itemize": "Ctrl-I"
   },
   "labels_anchors": false,
   "latex_user_defs": false,
   "report_style_numbering": false,
   "user_envs_cfg": false
  },
  "varInspector": {
   "cols": {
    "lenName": 16,
    "lenType": 16,
    "lenVar": 40
   },
   "kernels_config": {
    "python": {
     "delete_cmd_postfix": "",
     "delete_cmd_prefix": "del ",
     "library": "var_list.py",
     "varRefreshCmd": "print(var_dic_list())"
    },
    "r": {
     "delete_cmd_postfix": ") ",
     "delete_cmd_prefix": "rm(",
     "library": "var_list.r",
     "varRefreshCmd": "cat(var_dic_list()) "
    }
   },
   "types_to_exclude": [
    "module",
    "function",
    "builtin_function_or_method",
    "instance",
    "_Feature"
   ],
   "window_display": false
  }
 },
 "nbformat": 4,
 "nbformat_minor": 2
}
