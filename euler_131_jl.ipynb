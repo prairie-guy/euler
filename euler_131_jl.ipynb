{
 "cells": [
  {
   "cell_type": "markdown",
   "metadata": {},
   "source": [
    "### Euler 131"
   ]
  },
  {
   "cell_type": "markdown",
   "metadata": {},
   "source": [
    "There are some prime values, p, for which there exists a positive integer, n, such that the expression n^3 + n^2*p is a perfect cube.\n",
    "\n",
    "For example, when p = 19, 8^3 + 8^2×19 = 12^3.\n",
    "\n",
    "What is perhaps most surprising is that for each prime with this property the value of n is unique, and there are only four such primes below one-hundred.\n",
    "\n",
    "How many primes below one million have this remarkable property?\n"
   ]
  },
  {
   "cell_type": "markdown",
   "metadata": {},
   "source": [
    "n^3 + p n^2 = k^3 for some k.\n",
    "n^2(n + p)  = k^3"
   ]
  },
  {
   "cell_type": "markdown",
   "metadata": {},
   "source": [
    "For the example:\n",
    "8^2(8 + 19)\n",
    "8^2*27\n",
    "8^2*3^3\n",
    "\n",
    "(8 + 19) is a cube. Does this imply that (n + p) is always a cube?\n",
    "\n",
    "Consider the first ten cubes:"
   ]
  },
  {
   "cell_type": "code",
   "execution_count": 8,
   "metadata": {},
   "outputs": [],
   "source": [
    "using Primes"
   ]
  },
  {
   "cell_type": "code",
   "execution_count": 5,
   "metadata": {
    "scrolled": true
   },
   "outputs": [
    {
     "data": {
      "text/plain": [
       "10-element Array{Int64,1}:\n",
       "    1\n",
       "    8\n",
       "   27\n",
       "   64\n",
       "  125\n",
       "  216\n",
       "  343\n",
       "  512\n",
       "  729\n",
       " 1000"
      ]
     },
     "execution_count": 5,
     "metadata": {},
     "output_type": "execute_result"
    }
   ],
   "source": [
    "[n^3 for n in 1:10]"
   ]
  },
  {
   "cell_type": "markdown",
   "metadata": {},
   "source": [
    "Interestingly, (27 - 8) = 19, which is the prime in the example. \n",
    "Calculate the differences:"
   ]
  },
  {
   "cell_type": "code",
   "execution_count": 7,
   "metadata": {
    "scrolled": false
   },
   "outputs": [
    {
     "data": {
      "text/plain": [
       "9-element Array{Int64,1}:\n",
       "   7\n",
       "  19\n",
       "  37\n",
       "  61\n",
       "  91\n",
       " 127\n",
       " 169\n",
       " 217\n",
       " 271"
      ]
     },
     "execution_count": 7,
     "metadata": {},
     "output_type": "execute_result"
    }
   ],
   "source": [
    "[n^3 - (n-1)^3 for n in 2:10]"
   ]
  },
  {
   "cell_type": "markdown",
   "metadata": {},
   "source": [
    "Filter for only the primes"
   ]
  },
  {
   "cell_type": "code",
   "execution_count": 33,
   "metadata": {
    "scrolled": false
   },
   "outputs": [
    {
     "data": {
      "text/plain": [
       "4-element Array{Int64,1}:\n",
       "  7\n",
       " 19\n",
       " 37\n",
       " 61"
      ]
     },
     "execution_count": 33,
     "metadata": {},
     "output_type": "execute_result"
    }
   ],
   "source": [
    "max  = 100\n",
    "rmax = Int(ceil(max^(1/3)))\n",
    "filter(x-> isprime(x) && x< max, [n^3 - (n-1)^3 for n in 2:rmax])"
   ]
  },
  {
   "cell_type": "code",
   "execution_count": 80,
   "metadata": {
    "scrolled": true
   },
   "outputs": [
    {
     "name": "stdout",
     "output_type": "stream",
     "text": [
      "  0.045659 seconds (64.90 k allocations: 3.112 MiB)\n"
     ]
    },
    {
     "data": {
      "text/plain": [
       "173"
      ]
     },
     "execution_count": 80,
     "metadata": {},
     "output_type": "execute_result"
    }
   ],
   "source": [
    "max  = 10^6\n",
    "rmax = Int(sqrt(max))\n",
    "@time length(filter(x-> x < max && isprime(x), [n^3 - (n-1)^3 for n in 2:rmax]))"
   ]
  },
  {
   "cell_type": "markdown",
   "metadata": {},
   "source": [
    "### Answer of 173 is correct!"
   ]
  },
  {
   "cell_type": "code",
   "execution_count": 65,
   "metadata": {
    "scrolled": false
   },
   "outputs": [
    {
     "name": "stdout",
     "output_type": "stream",
     "text": [
      "  0.095798 seconds (184.05 k allocations: 6.442 MiB)\n"
     ]
    },
    {
     "data": {
      "text/plain": [
       "9289"
      ]
     },
     "execution_count": 65,
     "metadata": {},
     "output_type": "execute_result"
    }
   ],
   "source": [
    "max  = 10^10\n",
    "rmax = Int(sqrt(max))\n",
    "@time length(filter(x-> x < max && isprime(x), [n^3 - (n-1)^3 for n in 2:rmax]))"
   ]
  },
  {
   "cell_type": "code",
   "execution_count": 66,
   "metadata": {
    "scrolled": true
   },
   "outputs": [
    {
     "name": "stdout",
     "output_type": "stream",
     "text": [
      "  1.012960 seconds (1.08 M allocations: 33.909 MiB)\n"
     ]
    },
    {
     "data": {
      "text/plain": [
       "76483"
      ]
     },
     "execution_count": 66,
     "metadata": {},
     "output_type": "execute_result"
    }
   ],
   "source": [
    "max  = 10^12\n",
    "rmax = Int(sqrt(max))\n",
    "@time length(filter(x-> x < max && isprime(x), [n^3 - (n-1)^3 for n in 2:rmax]))"
   ]
  },
  {
   "cell_type": "code",
   "execution_count": 77,
   "metadata": {
    "scrolled": true
   },
   "outputs": [
    {
     "name": "stdout",
     "output_type": "stream",
     "text": [
      " 13.642050 seconds (10.08 M allocations: 308.633 MiB, 0.27% gc time)\n"
     ]
    },
    {
     "data": {
      "text/plain": [
       "645685"
      ]
     },
     "execution_count": 77,
     "metadata": {},
     "output_type": "execute_result"
    }
   ],
   "source": [
    "max  = 10^14\n",
    "rmax = Int(round(sqrt(max)))\n",
    "@time length(filter(x-> x < max && isprime(x), [n^3 - (n-1)^3 for n in 2:rmax]))"
   ]
  },
  {
   "cell_type": "code",
   "execution_count": 79,
   "metadata": {
    "scrolled": true
   },
   "outputs": [
    {
     "name": "stdout",
     "output_type": "stream",
     "text": [
      " 46.289152 seconds (31.71 M allocations: 968.439 MiB, 0.22% gc time)\n"
     ]
    },
    {
     "data": {
      "text/plain": [
       "1895983"
      ]
     },
     "execution_count": 79,
     "metadata": {},
     "output_type": "execute_result"
    }
   ],
   "source": [
    "max  = 10^15\n",
    "rmax = Int(round(sqrt(max)))\n",
    "@time length(filter(x-> x < max && isprime(x), [n^3 - (n-1)^3 for n in 2:rmax]))"
   ]
  },
  {
   "cell_type": "code",
   "execution_count": null,
   "metadata": {},
   "outputs": [],
   "source": []
  }
 ],
 "metadata": {
  "kernelspec": {
   "display_name": "Julia 1.3",
   "language": "julia",
   "name": "julia"
  },
  "language_info": {
   "file_extension": ".jl",
   "mimetype": "application/julia",
   "name": "julia",
   "version": "1.3.0"
  }
 },
 "nbformat": 4,
 "nbformat_minor": 2
}
