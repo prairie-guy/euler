{
 "cells": [
  {
   "cell_type": "markdown",
   "metadata": {},
   "source": [
    "## Euler Problem 115\n",
    "## Counting block combinations II"
   ]
  },
  {
   "cell_type": "markdown",
   "metadata": {},
   "source": [
    "A row measuring n units in length has red blocks with a minimum length of m units placed on it, such that any two red blocks (which are allowed to be different lengths) are separated by at least one black square.\n",
    "\n",
    "Let the fill-count function, F(m, n), represent the number of ways that a row can be filled.\n",
    "\n",
    "For example, F(3, 29) = 673135 and F(3, 30) = 1089155.\n",
    "\n",
    "That is, for m = 3, it can be seen that n = 30 is the smallest value for which the fill-count function first exceeds one million.\n",
    "\n",
    "In the same way, for m = 10, it can be verified that F(10, 56) = 880711 and F(10, 57) = 1148904, so n = 57 is the least value for which the fill-count function first exceeds one million.\n",
    "\n",
    "For m = 50, find the least value of n for which the fill-count function first exceeds one million."
   ]
  },
  {
   "cell_type": "code",
   "execution_count": 1,
   "metadata": {},
   "outputs": [],
   "source": [
    "using Primes, Lazy, Combinatorics, BigCombinatorics"
   ]
  },
  {
   "cell_type": "markdown",
   "metadata": {},
   "source": [
    "This looks to be a partition problem. We will want to partition the blocks so that all blocks of size > 2 are seperated from each other by a '1'."
   ]
  },
  {
   "cell_type": "code",
   "execution_count": 2,
   "metadata": {
    "scrolled": false
   },
   "outputs": [
    {
     "data": {
      "text/plain": [
       "15-element Array{Any,1}:\n",
       " [7]                  \n",
       " [6, 1]               \n",
       " [5, 2]               \n",
       " [5, 1, 1]            \n",
       " [4, 3]               \n",
       " [4, 2, 1]            \n",
       " [4, 1, 1, 1]         \n",
       " [3, 3, 1]            \n",
       " [3, 2, 2]            \n",
       " [3, 2, 1, 1]         \n",
       " [3, 1, 1, 1, 1]      \n",
       " [2, 2, 2, 1]         \n",
       " [2, 2, 1, 1, 1]      \n",
       " [2, 1, 1, 1, 1, 1]   \n",
       " [1, 1, 1, 1, 1, 1, 1]"
      ]
     },
     "execution_count": 2,
     "metadata": {},
     "output_type": "execute_result"
    }
   ],
   "source": [
    "@>> collect(partitions(7))"
   ]
  },
  {
   "cell_type": "markdown",
   "metadata": {},
   "source": [
    "We need to make sure that we filter out '2's since these represent blocks of size 2. Moreover, we need to make sure that there are sufficient '1' to partition the other numbers."
   ]
  },
  {
   "cell_type": "code",
   "execution_count": 3,
   "metadata": {
    "scrolled": true
   },
   "outputs": [
    {
     "data": {
      "text/plain": [
       "enoughones (generic function with 1 method)"
      ]
     },
     "execution_count": 3,
     "metadata": {},
     "output_type": "execute_result"
    }
   ],
   "source": [
    "function enoughones(ns,m)\n",
    "  return all(map(n-> !(n in 2:m-1),ns)) && (count(isone,ns) >= div(length(ns),2))\n",
    "end"
   ]
  },
  {
   "cell_type": "code",
   "execution_count": 4,
   "metadata": {
    "scrolled": false
   },
   "outputs": [
    {
     "data": {
      "text/plain": [
       "7-element Array{Any,1}:\n",
       " [7]                  \n",
       " [6, 1]               \n",
       " [5, 1, 1]            \n",
       " [4, 1, 1, 1]         \n",
       " [3, 3, 1]            \n",
       " [3, 1, 1, 1, 1]      \n",
       " [1, 1, 1, 1, 1, 1, 1]"
      ]
     },
     "execution_count": 4,
     "metadata": {},
     "output_type": "execute_result"
    }
   ],
   "source": [
    "@>> collect(partitions(7)) filter(a-> enoughones(a,3))"
   ]
  },
  {
   "cell_type": "markdown",
   "metadata": {},
   "source": [
    "Need to filter out rows containing 2's and rows without enough ones "
   ]
  },
  {
   "cell_type": "markdown",
   "metadata": {},
   "source": [
    "Logic for Combinations: Using the bars and stars approach. Where '1' are stars and other digits 'd' are bars. So for example with [3,3,1,1,1] there are 3 ones, with 2 gaps between and an additional spot on either end, i.e., 5 where we can place the 2 other digits. Generally, there are (n_ones + 1) spots to place the 'ds':\n",
    "\n",
    "`C(ones + 1, nd)`\n",
    "\n",
    "Next the combinations of digits that can fit into the (ones+1) needs to be taken into account:\n",
    "\n",
    "`nds!/(nd1!*nd2!*..)`\n",
    "\n",
    "Finally, \n",
    "\n",
    "`C(ones + 1, nd) * nds!/(nd1!*nd2!*..)`"
   ]
  },
  {
   "cell_type": "code",
   "execution_count": 5,
   "metadata": {},
   "outputs": [
    {
     "data": {
      "text/plain": [
       "combs (generic function with 1 method)"
      ]
     },
     "execution_count": 5,
     "metadata": {},
     "output_type": "execute_result"
    }
   ],
   "source": [
    "function combs(ds)\n",
    "    n_ds = length(ds)\n",
    "    n_ds == 1 && return(1)\n",
    "    fs = frequencies(ds)\n",
    "    n_ones = fs[1]\n",
    "    n_rest = n_ds - n_ones\n",
    "    parts  = div(factorial(n_rest), prod([factorial(n) for (d,n) in pairs(fs) if d != 1 ]))\n",
    "    choose = binomial(n_ones+1, n_rest)\n",
    "    return(parts * choose)                    \n",
    "end"
   ]
  },
  {
   "cell_type": "code",
   "execution_count": 6,
   "metadata": {},
   "outputs": [
    {
     "data": {
      "text/plain": [
       "F (generic function with 1 method)"
      ]
     },
     "execution_count": 6,
     "metadata": {},
     "output_type": "execute_result"
    }
   ],
   "source": [
    "function F(m,n)\n",
    "    @>> collect(partitions(n)) filter(a-> enoughones(a,m)) map(combs) sum\n",
    "end"
   ]
  },
  {
   "cell_type": "code",
   "execution_count": 7,
   "metadata": {},
   "outputs": [
    {
     "name": "stdout",
     "output_type": "stream",
     "text": [
      "  0.385823 seconds (1.85 M allocations: 123.131 MiB, 8.53% gc time)\n"
     ]
    },
    {
     "data": {
      "text/plain": [
       "16475640049"
      ]
     },
     "execution_count": 7,
     "metadata": {},
     "output_type": "execute_result"
    }
   ],
   "source": [
    "@time F(3,50)"
   ]
  },
  {
   "cell_type": "code",
   "execution_count": 8,
   "metadata": {},
   "outputs": [
    {
     "name": "stdout",
     "output_type": "stream",
     "text": [
      "  0.001510 seconds (30.55 k allocations: 2.153 MiB)\n"
     ]
    },
    {
     "data": {
      "text/plain": [
       "673135"
      ]
     },
     "execution_count": 8,
     "metadata": {},
     "output_type": "execute_result"
    }
   ],
   "source": [
    "@time F(3,29)"
   ]
  },
  {
   "cell_type": "code",
   "execution_count": 9,
   "metadata": {
    "scrolled": true
   },
   "outputs": [
    {
     "name": "stdout",
     "output_type": "stream",
     "text": [
      "  0.001994 seconds (37.27 k allocations: 2.630 MiB)\n"
     ]
    },
    {
     "data": {
      "text/plain": [
       "1089155"
      ]
     },
     "execution_count": 9,
     "metadata": {},
     "output_type": "execute_result"
    }
   ],
   "source": [
    "@time F(3,30)"
   ]
  },
  {
   "cell_type": "code",
   "execution_count": 10,
   "metadata": {
    "scrolled": true
   },
   "outputs": [
    {
     "name": "stdout",
     "output_type": "stream",
     "text": [
      "  0.416257 seconds (2.64 M allocations: 194.339 MiB, 58.85% gc time)\n"
     ]
    },
    {
     "data": {
      "text/plain": [
       "880711"
      ]
     },
     "execution_count": 10,
     "metadata": {},
     "output_type": "execute_result"
    }
   ],
   "source": [
    "@time F(10,56)"
   ]
  },
  {
   "cell_type": "code",
   "execution_count": 11,
   "metadata": {
    "scrolled": true
   },
   "outputs": [
    {
     "name": "stdout",
     "output_type": "stream",
     "text": [
      "4129.922871 seconds (953.77 M allocations: 79.765 GiB, 96.96% gc time)\n"
     ]
    },
    {
     "data": {
      "text/plain": [
       "102830344689"
      ]
     },
     "execution_count": 11,
     "metadata": {},
     "output_type": "execute_result"
    }
   ],
   "source": [
    "@time F(10,100)"
   ]
  },
  {
   "cell_type": "code",
   "execution_count": 12,
   "metadata": {
    "scrolled": true
   },
   "outputs": [
    {
     "name": "stdout",
     "output_type": "stream",
     "text": [
      "8092.704161 seconds (952.85 M allocations: 79.690 GiB, 97.94% gc time)\n"
     ]
    },
    {
     "data": {
      "text/plain": [
       "1327"
      ]
     },
     "execution_count": 12,
     "metadata": {},
     "output_type": "execute_result"
    }
   ],
   "source": [
    "@time F(50,100)"
   ]
  },
  {
   "cell_type": "code",
   "execution_count": null,
   "metadata": {
    "scrolled": true
   },
   "outputs": [],
   "source": [
    "@time F(50,110)"
   ]
  },
  {
   "cell_type": "code",
   "execution_count": null,
   "metadata": {
    "scrolled": true
   },
   "outputs": [],
   "source": [
    "@time F(50,120)"
   ]
  },
  {
   "cell_type": "code",
   "execution_count": null,
   "metadata": {},
   "outputs": [],
   "source": [
    "partitions(10)"
   ]
  },
  {
   "cell_type": "code",
   "execution_count": null,
   "metadata": {},
   "outputs": [],
   "source": [
    "#@>> Lazy.range(3) map(m-> F(50,m)) take(50)"
   ]
  },
  {
   "cell_type": "markdown",
   "metadata": {},
   "source": [
    "### Utilities"
   ]
  },
  {
   "cell_type": "markdown",
   "metadata": {},
   "source": [
    "`Printing Utilities`"
   ]
  },
  {
   "cell_type": "code",
   "execution_count": null,
   "metadata": {},
   "outputs": [],
   "source": [
    "macro print_seq(aseq) \n",
    "    :(for p in $aseq println(p) end) \n",
    "end"
   ]
  },
  {
   "cell_type": "code",
   "execution_count": null,
   "metadata": {},
   "outputs": [],
   "source": [
    "macro print_seq(aseq, lines)\n",
    "    :(for p in take($aseq,$lines) println(p) end)\n",
    "end"
   ]
  },
  {
   "cell_type": "markdown",
   "metadata": {},
   "source": [
    "`stats(dict) returns attributes of dict`"
   ]
  },
  {
   "cell_type": "code",
   "execution_count": null,
   "metadata": {
    "scrolled": true
   },
   "outputs": [],
   "source": [
    "function stats(dict)\n",
    "    e = last(sort(collect(keys(dict))))\n",
    "    #m = last(sort(collect(values(dict))))\n",
    "    return(\"Dict[$e] = $(dict[e]), Size = $(length(dict))\")\n",
    "end"
   ]
  },
  {
   "cell_type": "markdown",
   "metadata": {},
   "source": [
    "`sorted_dict(dict) returns a sorted array of dictionary pairs`"
   ]
  },
  {
   "cell_type": "code",
   "execution_count": null,
   "metadata": {
    "scrolled": true
   },
   "outputs": [],
   "source": [
    "sorted_dict(dict) = [(k,dict[k]) for k in sort(collect(keys(dict)))]"
   ]
  },
  {
   "cell_type": "code",
   "execution_count": null,
   "metadata": {},
   "outputs": [],
   "source": []
  }
 ],
 "metadata": {
  "kernelspec": {
   "display_name": "Julia 1.3",
   "language": "julia",
   "name": "julia"
  },
  "language_info": {
   "file_extension": ".jl",
   "mimetype": "application/julia",
   "name": "julia",
   "version": "1.3.0"
  }
 },
 "nbformat": 4,
 "nbformat_minor": 2
}
