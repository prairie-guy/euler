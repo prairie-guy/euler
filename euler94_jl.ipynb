{
 "cells": [
  {
   "cell_type": "markdown",
   "metadata": {},
   "source": [
    "# Almost equilateral triangles"
   ]
  },
  {
   "cell_type": "markdown",
   "metadata": {},
   "source": [
    "### Problem 94"
   ]
  },
  {
   "cell_type": "markdown",
   "metadata": {},
   "source": [
    "It is easily proved that no equilateral triangle exists with integral length sides and integral area. However, the almost equilateral triangle 5-5-6 has an area of 12 square units.\n",
    "\n",
    "We shall define an almost equilateral triangle to be a triangle for which two sides are equal and the third differs by no more than one unit.\n",
    "\n",
    "Find the sum of the perimeters of all almost equilateral triangles with integral side lengths and area and whose perimeters do not exceed one billion (1,000,000,000)."
   ]
  },
  {
   "cell_type": "code",
   "execution_count": 1,
   "metadata": {
    "collapsed": false
   },
   "outputs": [
    {
     "name": "stderr",
     "output_type": "stream",
     "text": [
      "WARNING: Method definition count() in module Iterators at deprecated.jl:56 overwritten in module IterTools at deprecated.jl:56.\n",
      "WARNING: Method definition count(Number) in module Iterators at deprecated.jl:56 overwritten in module IterTools at deprecated.jl:56.\n",
      "WARNING: Method definition count(Number, Number) in module Iterators at deprecated.jl:56 overwritten in module IterTools at deprecated.jl:56.\n"
     ]
    }
   ],
   "source": [
    "using Combinatorics, Primes, IterTools, Lazy"
   ]
  },
  {
   "cell_type": "code",
   "execution_count": 2,
   "metadata": {
    "collapsed": false
   },
   "outputs": [
    {
     "data": {
      "text/plain": [
       "coprime (generic function with 1 method)"
      ]
     },
     "execution_count": 2,
     "metadata": {},
     "output_type": "execute_result"
    }
   ],
   "source": [
    "function coprime(n::Integer, m::Integer)\n",
    "    if n == 0 && m == 0\n",
    "        return false\n",
    "    end\n",
    "    if gcd(n, m) > 1 \n",
    "        false\n",
    "    else\n",
    "        true\n",
    "    end\n",
    "end"
   ]
  },
  {
   "cell_type": "code",
   "execution_count": 18,
   "metadata": {
    "collapsed": false
   },
   "outputs": [
    {
     "data": {
      "text/html": [
       "true"
      ],
      "text/plain": [
       "true"
      ]
     },
     "execution_count": 18,
     "metadata": {},
     "output_type": "execute_result"
    }
   ],
   "source": [
    "coprime(2,3)"
   ]
  },
  {
   "cell_type": "code",
   "execution_count": 19,
   "metadata": {
    "collapsed": false
   },
   "outputs": [
    {
     "data": {
      "text/plain": [
       "triples (generic function with 1 method)"
      ]
     },
     "execution_count": 19,
     "metadata": {},
     "output_type": "execute_result"
    }
   ],
   "source": [
    "triples(m::Integer) = ((m^2 - n^2, 2m*n, m^2 + n^2) for m = 1:5 for n = 1:m if (isodd(m - n) && coprime(m,n)))"
   ]
  },
  {
   "cell_type": "code",
   "execution_count": 22,
   "metadata": {
    "collapsed": false
   },
   "outputs": [
    {
     "data": {
      "text/plain": [
       "6-element Array{Tuple{Int64,Int64,Int64},1}:\n",
       " (3, 4, 5)   \n",
       " (5, 12, 13) \n",
       " (15, 8, 17) \n",
       " (7, 24, 25) \n",
       " (21, 20, 29)\n",
       " (9, 40, 41) "
      ]
     },
     "execution_count": 22,
     "metadata": {},
     "output_type": "execute_result"
    }
   ],
   "source": [
    "collect(Iterators.take(triples(10),6))"
   ]
  },
  {
   "cell_type": "code",
   "execution_count": 13,
   "metadata": {
    "collapsed": false
   },
   "outputs": [
    {
     "name": "stdout",
     "output_type": "stream",
     "text": [
      "[2, 1][3, 4, 5]\n",
      "[3, 2][5, 12, 13]\n",
      "[4, 1][8, 15, 17]\n",
      "[4, 3][7, 24, 25]\n",
      "[5, 2][20, 21, 29]\n",
      "[5, 4][9, 40, 41]\n"
     ]
    }
   ],
   "source": [
    "triples(5)"
   ]
  },
  {
   "cell_type": "code",
   "execution_count": 17,
   "metadata": {
    "collapsed": false
   },
   "outputs": [
    {
     "data": {
      "text/plain": [
       "almost_equilateral (generic function with 2 methods)"
      ]
     },
     "execution_count": 17,
     "metadata": {},
     "output_type": "execute_result"
    }
   ],
   "source": [
    "function almost_equilateral(mmax::Int64, goal=10^9)\n",
    "sum = 0\n",
    "    for m = 2:mmax\n",
    "        for n = 1:m \n",
    "            if  m^2-3n^2 == 1\n",
    "                perm = 3*(m^2+n^2) + 1\n",
    "            elseif m^2 + n^2 - 4m*n == 1\n",
    "                perm = 3*(m^2+n^2) - 1\n",
    "            else\n",
    "                continue\n",
    "            end\n",
    "            \n",
    "            if perm > goal\n",
    "            println(\"Finished\")\n",
    "                return Int64(sum)\n",
    "            end\n",
    "\n",
    "            println([m,n], [perm])\n",
    "            sum += perm\n",
    "        end\n",
    "    end\n",
    "    false\n",
    "end"
   ]
  },
  {
   "cell_type": "code",
   "execution_count": 18,
   "metadata": {
    "collapsed": false
   },
   "outputs": [
    {
     "name": "stdout",
     "output_type": "stream",
     "text": [
      "[2, 1][16]\n",
      "[4, 1][50]\n",
      "[7, 4][196]\n",
      "[15, 4][722]\n",
      "[26, 15][2704]\n",
      "[56, 15][10082]\n",
      "[97, 56][37636]\n",
      "[209, 56][140450]\n",
      "[362, 209][524176]\n",
      "[780, 209][1956242]\n",
      "[1351, 780][7300804]\n",
      "[2911, 780][27246962]\n",
      "[5042, 2911][101687056]\n",
      "[10864, 2911][379501250]\n",
      "Finished\n",
      "  0.448241 seconds (9.28 k allocations: 444.260 KiB)\n"
     ]
    },
    {
     "data": {
      "text/html": [
       "518408346"
      ],
      "text/plain": [
       "518408346"
      ]
     },
     "execution_count": 18,
     "metadata": {},
     "output_type": "execute_result"
    }
   ],
   "source": [
    "@time almost_equilateral(100000)"
   ]
  },
  {
   "cell_type": "code",
   "execution_count": null,
   "metadata": {
    "collapsed": true
   },
   "outputs": [],
   "source": []
  }
 ],
 "metadata": {
  "kernelspec": {
   "display_name": "Julia 0.6.0-rc3",
   "language": "julia",
   "name": "julia-0.6"
  },
  "language_info": {
   "file_extension": ".jl",
   "mimetype": "application/julia",
   "name": "julia",
   "version": "0.6.0"
  },
  "latex_envs": {
   "LaTeX_envs_menu_present": true,
   "autocomplete": true,
   "bibliofile": "biblio.bib",
   "cite_by": "apalike",
   "current_citInitial": 1,
   "eqLabelWithNumbers": true,
   "eqNumInitial": 1,
   "hotkeys": {
    "equation": "Ctrl-E",
    "itemize": "Ctrl-I"
   },
   "labels_anchors": false,
   "latex_user_defs": false,
   "report_style_numbering": false,
   "user_envs_cfg": false
  },
  "varInspector": {
   "cols": {
    "lenName": 16,
    "lenType": 16,
    "lenVar": 40
   },
   "kernels_config": {
    "python": {
     "delete_cmd_postfix": "",
     "delete_cmd_prefix": "del ",
     "library": "var_list.py",
     "varRefreshCmd": "print(var_dic_list())"
    },
    "r": {
     "delete_cmd_postfix": ") ",
     "delete_cmd_prefix": "rm(",
     "library": "var_list.r",
     "varRefreshCmd": "cat(var_dic_list()) "
    }
   },
   "types_to_exclude": [
    "module",
    "function",
    "builtin_function_or_method",
    "instance",
    "_Feature"
   ],
   "window_display": false
  }
 },
 "nbformat": 4,
 "nbformat_minor": 2
}
