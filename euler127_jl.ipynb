{
 "cells": [
  {
   "cell_type": "markdown",
   "metadata": {},
   "source": [
    "# abc-hits"
   ]
  },
  {
   "cell_type": "markdown",
   "metadata": {},
   "source": [
    "### Problem 127"
   ]
  },
  {
   "cell_type": "markdown",
   "metadata": {},
   "source": [
    "The radical of n, rad(n), is the product of distinct prime factors of n. For example, 504 = 23 × 32 × 7, so rad(504) = 2 × 3 × 7 = 42.\n",
    "\n",
    "We shall define the triplet of positive integers (a, b, c) to be an abc-hit if:\n",
    "\n",
    "1) GCD(a, b) = GCD(a, c) = GCD(b, c) = 1\n",
    "\n",
    "2) a < b\n",
    "\n",
    "3) a + b = c\n",
    "\n",
    "4) rad(abc) < c\n"
   ]
  },
  {
   "cell_type": "markdown",
   "metadata": {},
   "source": [
    "For example, (5, 27, 32) is an abc-hit, because:\n",
    "\n",
    "1) GCD(5, 27) = GCD(5, 32) = GCD(27, 32) = 1\n",
    "\n",
    "2) 5 < 27\n",
    "\n",
    "3) 5 + 27 = 32\n",
    "\n",
    "4) rad(4320) = 30 < 32\n",
    "\n",
    "It turns out that abc-hits are quite rare and there are only 31 abc-hits for c < 1000, with ∑c = 12523.\n",
    "\n",
    "Find ∑c for c < 120000."
   ]
  },
  {
   "cell_type": "code",
   "execution_count": 18,
   "metadata": {
    "collapsed": false
   },
   "outputs": [
    {
     "data": {
      "text/plain": [
       "printiter (generic function with 1 method)"
      ]
     },
     "execution_count": 18,
     "metadata": {},
     "output_type": "execute_result"
    }
   ],
   "source": [
    "using CBD, IterTools, Combinatorics, Primes, Lazy, Match\n",
    "# Combinatorics source code contains many useful functions not found in README\n",
    "\n",
    "function printiter(itr)\n",
    "    for i in itr\n",
    "        println(i)\n",
    "    end\n",
    "end"
   ]
  },
  {
   "cell_type": "code",
   "execution_count": 19,
   "metadata": {
    "collapsed": false
   },
   "outputs": [
    {
     "data": {
      "text/plain": [
       "rad (generic function with 1 method)"
      ]
     },
     "execution_count": 19,
     "metadata": {},
     "output_type": "execute_result"
    }
   ],
   "source": [
    "maxrad = 125000\n",
    "RAD = Dict(k=>prod(keys(factor(k))) for k in 1:maxrad)\n",
    "function rad(n) \n",
    "    RAD[n]\n",
    "end"
   ]
  },
  {
   "cell_type": "code",
   "execution_count": 20,
   "metadata": {
    "collapsed": false
   },
   "outputs": [
    {
     "data": {
      "text/html": [
       "42"
      ],
      "text/plain": [
       "42"
      ]
     },
     "execution_count": 20,
     "metadata": {},
     "output_type": "execute_result"
    }
   ],
   "source": [
    "rad(504)"
   ]
  },
  {
   "cell_type": "code",
   "execution_count": 21,
   "metadata": {
    "collapsed": false
   },
   "outputs": [
    {
     "data": {
      "text/plain": [
       "abchit (generic function with 1 method)"
      ]
     },
     "execution_count": 21,
     "metadata": {},
     "output_type": "execute_result"
    }
   ],
   "source": [
    "function abchit(a,b,c) \n",
    "    # THESE FILTERS WHERE EXTRACTED INTO THE LOOP: a<b && a+b==c && 1==gcd(a,b)\n",
    "    1==gcd(a,b) && 1==gcd(b,c) && rad(a)*rad(b)*rad(c)<c\n",
    "end"
   ]
  },
  {
   "cell_type": "code",
   "execution_count": 22,
   "metadata": {
    "collapsed": false
   },
   "outputs": [
    {
     "data": {
      "text/html": [
       "true"
      ],
      "text/plain": [
       "true"
      ]
     },
     "execution_count": 22,
     "metadata": {},
     "output_type": "execute_result"
    }
   ],
   "source": [
    "abchit(5,27,32)"
   ]
  },
  {
   "cell_type": "code",
   "execution_count": 78,
   "metadata": {
    "collapsed": false
   },
   "outputs": [
    {
     "data": {
      "text/plain": [
       "find_abchits_brute (generic function with 1 method)"
      ]
     },
     "execution_count": 78,
     "metadata": {},
     "output_type": "execute_result"
    }
   ],
   "source": [
    "function find_abchits_brute(n::Int)\n",
    "    result = []\n",
    "    for c in [c for c in 3:n if c/rad(c) > 6]\n",
    "        for (a,b) in [(a,c-a) for a=1:c if a<(c-a) && 1==gcd(a,c) ]\n",
    "            if abchit(a,b,c) \n",
    "                push!(result,(a,b,c))\n",
    "            end\n",
    "        end\n",
    "    end\n",
    "    result\n",
    "end"
   ]
  },
  {
   "cell_type": "code",
   "execution_count": 82,
   "metadata": {
    "collapsed": false
   },
   "outputs": [
    {
     "name": "stdout",
     "output_type": "stream",
     "text": [
      "  0.069237 seconds (243.66 k allocations: 6.101 MiB, 11.36% gc time)\n"
     ]
    },
    {
     "data": {
      "text/plain": [
       "30-element Array{Any,1}:\n",
       " (1, 48, 49)    \n",
       " (1, 63, 64)    \n",
       " (1, 80, 81)    \n",
       " (1, 224, 225)  \n",
       " (1, 242, 243)  \n",
       " (1, 288, 289)  \n",
       " (1, 512, 513)  \n",
       " (1, 624, 625)  \n",
       " (1, 675, 676)  \n",
       " (1, 728, 729)  \n",
       " (1, 960, 961)  \n",
       " (2, 243, 245)  \n",
       " (3, 125, 128)  \n",
       " ⋮              \n",
       " (25, 704, 729) \n",
       " (27, 512, 539) \n",
       " (32, 49, 81)   \n",
       " (32, 343, 375) \n",
       " (49, 576, 625) \n",
       " (81, 175, 256) \n",
       " (81, 544, 625) \n",
       " (100, 243, 343)\n",
       " (104, 625, 729)\n",
       " (169, 343, 512)\n",
       " (200, 529, 729)\n",
       " (343, 625, 968)"
      ]
     },
     "execution_count": 82,
     "metadata": {},
     "output_type": "execute_result"
    }
   ],
   "source": [
    "@time sort(collect(find_abchits_brute(1000)))"
   ]
  },
  {
   "cell_type": "code",
   "execution_count": 118,
   "metadata": {
    "collapsed": false
   },
   "outputs": [
    {
     "data": {
      "text/plain": [
       "euler_brute_127 (generic function with 1 method)"
      ]
     },
     "execution_count": 118,
     "metadata": {},
     "output_type": "execute_result"
    }
   ],
   "source": [
    "function euler_brute_127(n)\n",
    "    total = 0\n",
    "    for (a,b,c) in find_abchits_brute(n)\n",
    "        if c < n\n",
    "            total += c\n",
    "        end\n",
    "    end\n",
    "    return total\n",
    "end"
   ]
  },
  {
   "cell_type": "code",
   "execution_count": 122,
   "metadata": {
    "collapsed": false
   },
   "outputs": [
    {
     "name": "stdout",
     "output_type": "stream",
     "text": [
      "  0.131643 seconds (578.15 k allocations: 14.505 MiB, 3.66% gc time)\n"
     ]
    },
    {
     "data": {
      "text/html": [
       "12523"
      ],
      "text/plain": [
       "12523"
      ]
     },
     "execution_count": 122,
     "metadata": {},
     "output_type": "execute_result"
    }
   ],
   "source": [
    "@time euler_brute_127(1000)"
   ]
  },
  {
   "cell_type": "code",
   "execution_count": null,
   "metadata": {
    "collapsed": false,
    "scrolled": false
   },
   "outputs": [],
   "source": [
    "@time euler_brute_127(120000)"
   ]
  },
  {
   "cell_type": "markdown",
   "metadata": {},
   "source": [
    "# Ordered Radicals"
   ]
  },
  {
   "cell_type": "markdown",
   "metadata": {},
   "source": [
    "### Problem 124"
   ]
  },
  {
   "cell_type": "code",
   "execution_count": 132,
   "metadata": {
    "collapsed": false
   },
   "outputs": [
    {
     "data": {
      "text/plain": [
       "euler124 (generic function with 2 methods)"
      ]
     },
     "execution_count": 132,
     "metadata": {},
     "output_type": "execute_result"
    }
   ],
   "source": [
    "function euler124(n,s)\n",
    "   sort([(rad(i), i ) for i in 1:n])[s][2]\n",
    "end"
   ]
  },
  {
   "cell_type": "code",
   "execution_count": 134,
   "metadata": {
    "collapsed": false,
    "scrolled": true
   },
   "outputs": [
    {
     "name": "stdout",
     "output_type": "stream",
     "text": [
      "  0.085390 seconds (394.89 k allocations: 11.367 MiB)\n"
     ]
    },
    {
     "data": {
      "text/html": [
       "21417"
      ],
      "text/plain": [
       "21417"
      ]
     },
     "execution_count": 134,
     "metadata": {},
     "output_type": "execute_result"
    }
   ],
   "source": [
    "@time euler124(10^5,10^4)"
   ]
  }
 ],
 "metadata": {
  "kernelspec": {
   "display_name": "Julia 0.6.0-rc3",
   "language": "julia",
   "name": "julia-0.6"
  },
  "language_info": {
   "file_extension": ".jl",
   "mimetype": "application/julia",
   "name": "julia",
   "version": "0.6.0"
  },
  "latex_envs": {
   "LaTeX_envs_menu_present": true,
   "autocomplete": true,
   "bibliofile": "biblio.bib",
   "cite_by": "apalike",
   "current_citInitial": 1,
   "eqLabelWithNumbers": true,
   "eqNumInitial": 1,
   "hotkeys": {
    "equation": "Ctrl-E",
    "itemize": "Ctrl-I"
   },
   "labels_anchors": false,
   "latex_user_defs": false,
   "report_style_numbering": false,
   "user_envs_cfg": false
  },
  "varInspector": {
   "cols": {
    "lenName": 16,
    "lenType": 16,
    "lenVar": 40
   },
   "kernels_config": {
    "python": {
     "delete_cmd_postfix": "",
     "delete_cmd_prefix": "del ",
     "library": "var_list.py",
     "varRefreshCmd": "print(var_dic_list())"
    },
    "r": {
     "delete_cmd_postfix": ") ",
     "delete_cmd_prefix": "rm(",
     "library": "var_list.r",
     "varRefreshCmd": "cat(var_dic_list()) "
    }
   },
   "types_to_exclude": [
    "module",
    "function",
    "builtin_function_or_method",
    "instance",
    "_Feature"
   ],
   "window_display": false
  }
 },
 "nbformat": 4,
 "nbformat_minor": 2
}
